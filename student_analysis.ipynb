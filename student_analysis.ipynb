{
 "cells": [
  {
   "cell_type": "code",
   "execution_count": 42,
   "id": "1b5948ac-70fd-4a2b-b2aa-b4dee50f2b59",
   "metadata": {
    "tags": []
   },
   "outputs": [],
   "source": [
    "# importing necessary libraries\n",
    "import pandas as pd\n",
    "import numpy as np\n",
    "import boto3\n",
    "from sklearn.model_selection import train_test_split\n",
    "import sagemaker\n",
    "from sagemaker import Session\n",
    "import io\n",
    "import sagemaker.amazon.common as smac\n",
    "import os\n",
    "from sagemaker.amazon.amazon_estimator import get_image_uri"
   ]
  },
  {
   "cell_type": "code",
   "execution_count": 43,
   "id": "a1069403-db08-4956-ba64-b1f0c6ff1c00",
   "metadata": {
    "tags": []
   },
   "outputs": [],
   "source": [
    "#read the csv file\n",
    "df=pd.read_csv(\"student_scores.csv\")"
   ]
  },
  {
   "cell_type": "code",
   "execution_count": 44,
   "id": "6ad9e0c3-eec7-49e7-b348-ecb1558ca967",
   "metadata": {
    "tags": []
   },
   "outputs": [
    {
     "data": {
      "text/html": [
       "<div>\n",
       "<style scoped>\n",
       "    .dataframe tbody tr th:only-of-type {\n",
       "        vertical-align: middle;\n",
       "    }\n",
       "\n",
       "    .dataframe tbody tr th {\n",
       "        vertical-align: top;\n",
       "    }\n",
       "\n",
       "    .dataframe thead th {\n",
       "        text-align: right;\n",
       "    }\n",
       "</style>\n",
       "<table border=\"1\" class=\"dataframe\">\n",
       "  <thead>\n",
       "    <tr style=\"text-align: right;\">\n",
       "      <th></th>\n",
       "      <th>Hours</th>\n",
       "      <th>Scores</th>\n",
       "    </tr>\n",
       "  </thead>\n",
       "  <tbody>\n",
       "    <tr>\n",
       "      <th>0</th>\n",
       "      <td>2.5</td>\n",
       "      <td>21</td>\n",
       "    </tr>\n",
       "    <tr>\n",
       "      <th>1</th>\n",
       "      <td>5.1</td>\n",
       "      <td>47</td>\n",
       "    </tr>\n",
       "    <tr>\n",
       "      <th>2</th>\n",
       "      <td>3.2</td>\n",
       "      <td>27</td>\n",
       "    </tr>\n",
       "    <tr>\n",
       "      <th>3</th>\n",
       "      <td>8.5</td>\n",
       "      <td>75</td>\n",
       "    </tr>\n",
       "    <tr>\n",
       "      <th>4</th>\n",
       "      <td>3.5</td>\n",
       "      <td>30</td>\n",
       "    </tr>\n",
       "  </tbody>\n",
       "</table>\n",
       "</div>"
      ],
      "text/plain": [
       "   Hours  Scores\n",
       "0    2.5      21\n",
       "1    5.1      47\n",
       "2    3.2      27\n",
       "3    8.5      75\n",
       "4    3.5      30"
      ]
     },
     "execution_count": 44,
     "metadata": {},
     "output_type": "execute_result"
    }
   ],
   "source": [
    "#head of the dataframe\n",
    "df.head()"
   ]
  },
  {
   "cell_type": "code",
   "execution_count": 45,
   "id": "e41fd832-fcae-467c-b500-a4d95e1916e5",
   "metadata": {
    "tags": []
   },
   "outputs": [
    {
     "data": {
      "text/plain": [
       "(25, 2)"
      ]
     },
     "execution_count": 45,
     "metadata": {},
     "output_type": "execute_result"
    }
   ],
   "source": [
    "#shape of the data\n",
    "df.shape"
   ]
  },
  {
   "cell_type": "code",
   "execution_count": 46,
   "id": "c5b002bb-f775-497d-bcfd-a8b9bda6095b",
   "metadata": {
    "tags": []
   },
   "outputs": [],
   "source": [
    "#separate x and y\n",
    "x=df[[\"Hours\"]]\n",
    "y=df[[\"Scores\"]]"
   ]
  },
  {
   "cell_type": "code",
   "execution_count": 47,
   "id": "ab1e6ba5-1703-4876-ba6b-d0408f07775d",
   "metadata": {
    "tags": []
   },
   "outputs": [],
   "source": [
    "#checking data types\n",
    "x.dtypes\n",
    "x=x.astype(\"float32\")\n",
    "y=y.astype(\"float32\")"
   ]
  },
  {
   "cell_type": "code",
   "execution_count": 48,
   "id": "a69641de-ce6c-4da3-bda0-2b773601fcd8",
   "metadata": {
    "tags": []
   },
   "outputs": [
    {
     "data": {
      "text/plain": [
       "Scores    float32\n",
       "dtype: object"
      ]
     },
     "execution_count": 48,
     "metadata": {},
     "output_type": "execute_result"
    }
   ],
   "source": [
    "y.dtypes"
   ]
  },
  {
   "cell_type": "code",
   "execution_count": 49,
   "id": "c3064d73-ed56-4e3e-82eb-58557f61719f",
   "metadata": {
    "tags": []
   },
   "outputs": [],
   "source": [
    "#split the data\n",
    "X_train,X_test,y_train,y_test=train_test_split(x,y,test_size=0.2)"
   ]
  },
  {
   "cell_type": "code",
   "execution_count": 50,
   "id": "3d61523d-72eb-4c16-8f08-409f149152bf",
   "metadata": {
    "tags": []
   },
   "outputs": [],
   "source": [
    "#reset index\n",
    "X_train=X_train.reset_index(drop=True)\n",
    "y_train=y_train.reset_index(drop=True)\n",
    "X_test=X_test.reset_index(drop=True)\n",
    "y_test=y_test.reset_index(drop=True)"
   ]
  },
  {
   "cell_type": "code",
   "execution_count": 51,
   "id": "7408dcf9-7a93-43ea-abb6-260886f7c2ff",
   "metadata": {
    "tags": []
   },
   "outputs": [],
   "source": [
    "#we need to take label column as vector\n",
    "y_train=y_train.iloc[:,0]"
   ]
  },
  {
   "cell_type": "code",
   "execution_count": 52,
   "id": "c05e6359-c334-42ab-b124-20038f49130e",
   "metadata": {
    "tags": []
   },
   "outputs": [],
   "source": [
    "y_test=y_test.iloc[:,0]"
   ]
  },
  {
   "cell_type": "code",
   "execution_count": 53,
   "id": "51193634-2f10-4245-8f10-4b04b46b490d",
   "metadata": {
    "tags": []
   },
   "outputs": [
    {
     "name": "stdout",
     "output_type": "stream",
     "text": [
      "sagemaker.config INFO - Not applying SDK defaults from location: /etc/xdg/sagemaker/config.yaml\n",
      "sagemaker.config INFO - Not applying SDK defaults from location: /root/.config/sagemaker/config.yaml\n",
      "sagemaker.config INFO - Not applying SDK defaults from location: /etc/xdg/sagemaker/config.yaml\n",
      "sagemaker.config INFO - Not applying SDK defaults from location: /root/.config/sagemaker/config.yaml\n"
     ]
    }
   ],
   "source": [
    "#lets create sagemaker session\n",
    "sagemaker_session=sagemaker.Session()\n",
    "#define the bucket name\n",
    "bucket_name=\"yt-ml-sagemaker\"\n",
    "#define the prefix\n",
    "prefix=\"linear-learner\"\n",
    "#get the execution role\n",
    "role=sagemaker.get_execution_role()"
   ]
  },
  {
   "cell_type": "code",
   "execution_count": 54,
   "id": "259e3c1b-54c4-4029-bcf6-40a5bb312ae0",
   "metadata": {
    "tags": []
   },
   "outputs": [],
   "source": [
    "#convert X_train into numpy aray\n",
    "X_train=np.array(X_train)"
   ]
  },
  {
   "cell_type": "code",
   "execution_count": 55,
   "id": "5a51f5ed-86e2-400c-862f-333945bcab2f",
   "metadata": {
    "tags": []
   },
   "outputs": [
    {
     "data": {
      "text/plain": [
       "0"
      ]
     },
     "execution_count": 55,
     "metadata": {},
     "output_type": "execute_result"
    }
   ],
   "source": [
    "#create the buffer\n",
    "buf=io.BytesIO()\n",
    "smac.write_numpy_to_dense_tensor(buf,X_train,y_train)\n",
    "buf.seek(0)"
   ]
  },
  {
   "cell_type": "code",
   "execution_count": 56,
   "id": "ffc695ae-5bb2-4292-ab9d-b59f00bfe360",
   "metadata": {
    "tags": []
   },
   "outputs": [
    {
     "name": "stdout",
     "output_type": "stream",
     "text": [
      "Data uploaded s3://yt-ml-sagemaker/linear-learner/train/student-data\n"
     ]
    }
   ],
   "source": [
    "#define the name of the file\n",
    "key=\"student-data\"\n",
    "\n",
    "#code to upload in s3\n",
    "boto3.resource('s3').Bucket(bucket_name).Object(os.path.join(prefix,'train',key)).upload_fileobj(buf)\n",
    "\n",
    "#path of our data\n",
    "s3_train_data=f\"s3://{bucket_name}/{prefix}/train/{key}\"\n",
    "\n",
    "print(\"Data uploaded\",s3_train_data)"
   ]
  },
  {
   "cell_type": "code",
   "execution_count": 57,
   "id": "b1f098ff-0490-4066-821f-68f78ddeae6a",
   "metadata": {
    "tags": []
   },
   "outputs": [
    {
     "name": "stdout",
     "output_type": "stream",
     "text": [
      "Data uploaded s3://yt-ml-sagemaker/linear-learner/test/student-data-test\n"
     ]
    }
   ],
   "source": [
    "#convert X_train into numpy aray\n",
    "X_test=np.array(X_test)\n",
    "#create the buffer\n",
    "buf=io.BytesIO()\n",
    "smac.write_numpy_to_dense_tensor(buf,X_test,y_test)\n",
    "buf.seek(0)\n",
    "#define the name of the file\n",
    "key=\"student-data-test\"\n",
    "\n",
    "#code to upload in s3\n",
    "boto3.resource('s3').Bucket(bucket_name).Object(os.path.join(prefix,'test',key)).upload_fileobj(buf)\n",
    "\n",
    "#path of our data\n",
    "s3_train_data=f\"s3://{bucket_name}/{prefix}/test/{key}\"\n",
    "\n",
    "print(\"Data uploaded\",s3_train_data)"
   ]
  },
  {
   "cell_type": "code",
   "execution_count": 58,
   "id": "431788f8-3ebb-479e-9eb7-34367d8cdc22",
   "metadata": {
    "tags": []
   },
   "outputs": [],
   "source": [
    "#output location\n",
    "output_location=f\"s3://{bucket_name}/{prefix}/output\""
   ]
  },
  {
   "cell_type": "code",
   "execution_count": 59,
   "id": "840e992e-2289-4e44-8efc-79b0c6fcbeb2",
   "metadata": {
    "tags": []
   },
   "outputs": [
    {
     "name": "stderr",
     "output_type": "stream",
     "text": [
      "INFO:sagemaker.image_uris:Same images used for training and inference. Defaulting to image scope: inference.\n",
      "INFO:sagemaker.image_uris:Defaulting to the only supported framework/algorithm version: 1.\n",
      "INFO:sagemaker.image_uris:Ignoring unnecessary instance type: None.\n"
     ]
    }
   ],
   "source": [
    "#bring the container\n",
    "container=sagemaker.image_uris.retrieve(\"linear-learner\",boto3.Session().region_name)"
   ]
  },
  {
   "cell_type": "code",
   "execution_count": 60,
   "id": "64f6eaa6-06ca-471d-817b-9bc95b8054f2",
   "metadata": {
    "tags": []
   },
   "outputs": [],
   "source": [
    "#define the estimator\n",
    "linear=sagemaker.estimator.Estimator(container,role,instance_count=1,instance_type=\"ml.c4.xlarge\",output_path=output_location,sagemaker_session=sagemaker_session)"
   ]
  },
  {
   "cell_type": "code",
   "execution_count": 61,
   "id": "062e0136-a43b-4152-a50d-677874dd00a2",
   "metadata": {
    "tags": []
   },
   "outputs": [],
   "source": [
    "#setting up the hyperparameters\n",
    "linear.set_hyperparameters(feature_dim=1,predictor_type=\"regressor\",mini_batch_size=4,epochs=6,num_models=32,loss=\"absolute_loss\")"
   ]
  },
  {
   "cell_type": "code",
   "execution_count": 62,
   "id": "39156d4b-32c6-455e-955f-5624c1beeeb6",
   "metadata": {
    "tags": []
   },
   "outputs": [
    {
     "name": "stderr",
     "output_type": "stream",
     "text": [
      "INFO:sagemaker:Creating training-job with name: linear-learner-2023-12-04-03-56-01-649\n"
     ]
    },
    {
     "name": "stdout",
     "output_type": "stream",
     "text": [
      "2023-12-04 03:56:01 Starting - Starting the training job...\n",
      "2023-12-04 03:56:17 Starting - Preparing the instances for training......\n",
      "2023-12-04 03:57:26 Downloading - Downloading input data...\n",
      "2023-12-04 03:57:51 Training - Downloading the training image.........\n",
      "2023-12-04 03:59:27 Uploading - Uploading generated training model\u001b[34mDocker entrypoint called with argument(s): train\u001b[0m\n",
      "\u001b[34mRunning default environment configuration script\u001b[0m\n",
      "\u001b[34m[12/04/2023 03:59:21 INFO 140240539854656] Reading default configuration from /opt/amazon/lib/python3.8/site-packages/algorithm/resources/default-input.json: {'mini_batch_size': '1000', 'epochs': '15', 'feature_dim': 'auto', 'use_bias': 'true', 'binary_classifier_model_selection_criteria': 'accuracy', 'f_beta': '1.0', 'target_recall': '0.8', 'target_precision': '0.8', 'num_models': 'auto', 'num_calibration_samples': '10000000', 'init_method': 'uniform', 'init_scale': '0.07', 'init_sigma': '0.01', 'init_bias': '0.0', 'optimizer': 'auto', 'loss': 'auto', 'margin': '1.0', 'quantile': '0.5', 'loss_insensitivity': '0.01', 'huber_delta': '1.0', 'num_classes': '1', 'accuracy_top_k': '3', 'wd': 'auto', 'l1': 'auto', 'momentum': 'auto', 'learning_rate': 'auto', 'beta_1': 'auto', 'beta_2': 'auto', 'bias_lr_mult': 'auto', 'bias_wd_mult': 'auto', 'use_lr_scheduler': 'true', 'lr_scheduler_step': 'auto', 'lr_scheduler_factor': 'auto', 'lr_scheduler_minimum_lr': 'auto', 'positive_example_weight_mult': '1.0', 'balance_multiclass_weights': 'false', 'normalize_data': 'true', 'normalize_label': 'auto', 'unbias_data': 'auto', 'unbias_label': 'auto', 'num_point_for_scaler': '10000', '_kvstore': 'auto', '_num_gpus': 'auto', '_num_kv_servers': 'auto', '_log_level': 'info', '_tuning_objective_metric': '', 'early_stopping_patience': '3', 'early_stopping_tolerance': '0.001', '_enable_profiler': 'false'}\u001b[0m\n",
      "\u001b[34m[12/04/2023 03:59:21 INFO 140240539854656] Merging with provided configuration from /opt/ml/input/config/hyperparameters.json: {'epochs': '6', 'feature_dim': '1', 'loss': 'absolute_loss', 'mini_batch_size': '4', 'num_models': '32', 'predictor_type': 'regressor'}\u001b[0m\n",
      "\u001b[34m[12/04/2023 03:59:21 INFO 140240539854656] Final configuration: {'mini_batch_size': '4', 'epochs': '6', 'feature_dim': '1', 'use_bias': 'true', 'binary_classifier_model_selection_criteria': 'accuracy', 'f_beta': '1.0', 'target_recall': '0.8', 'target_precision': '0.8', 'num_models': '32', 'num_calibration_samples': '10000000', 'init_method': 'uniform', 'init_scale': '0.07', 'init_sigma': '0.01', 'init_bias': '0.0', 'optimizer': 'auto', 'loss': 'absolute_loss', 'margin': '1.0', 'quantile': '0.5', 'loss_insensitivity': '0.01', 'huber_delta': '1.0', 'num_classes': '1', 'accuracy_top_k': '3', 'wd': 'auto', 'l1': 'auto', 'momentum': 'auto', 'learning_rate': 'auto', 'beta_1': 'auto', 'beta_2': 'auto', 'bias_lr_mult': 'auto', 'bias_wd_mult': 'auto', 'use_lr_scheduler': 'true', 'lr_scheduler_step': 'auto', 'lr_scheduler_factor': 'auto', 'lr_scheduler_minimum_lr': 'auto', 'positive_example_weight_mult': '1.0', 'balance_multiclass_weights': 'false', 'normalize_data': 'true', 'normalize_label': 'auto', 'unbias_data': 'auto', 'unbias_label': 'auto', 'num_point_for_scaler': '10000', '_kvstore': 'auto', '_num_gpus': 'auto', '_num_kv_servers': 'auto', '_log_level': 'info', '_tuning_objective_metric': '', 'early_stopping_patience': '3', 'early_stopping_tolerance': '0.001', '_enable_profiler': 'false', 'predictor_type': 'regressor'}\u001b[0m\n",
      "\u001b[34m/opt/amazon/lib/python3.8/site-packages/mxnet/model.py:97: SyntaxWarning: \"is\" with a literal. Did you mean \"==\"?\n",
      "  if num_device is 1 and 'dist' not in kvstore:\u001b[0m\n",
      "\u001b[34m/opt/amazon/lib/python3.8/site-packages/scipy/optimize/_shgo.py:495: SyntaxWarning: \"is\" with a literal. Did you mean \"==\"?\n",
      "  if cons['type'] is 'ineq':\u001b[0m\n",
      "\u001b[34m/opt/amazon/lib/python3.8/site-packages/scipy/optimize/_shgo.py:743: SyntaxWarning: \"is not\" with a literal. Did you mean \"!=\"?\n",
      "  if len(self.X_min) is not 0:\u001b[0m\n",
      "\u001b[34m[12/04/2023 03:59:24 WARNING 140240539854656] Loggers have already been setup.\u001b[0m\n",
      "\u001b[34m[12/04/2023 03:59:24 INFO 140240539854656] Final configuration: {'mini_batch_size': '4', 'epochs': '6', 'feature_dim': '1', 'use_bias': 'true', 'binary_classifier_model_selection_criteria': 'accuracy', 'f_beta': '1.0', 'target_recall': '0.8', 'target_precision': '0.8', 'num_models': '32', 'num_calibration_samples': '10000000', 'init_method': 'uniform', 'init_scale': '0.07', 'init_sigma': '0.01', 'init_bias': '0.0', 'optimizer': 'auto', 'loss': 'absolute_loss', 'margin': '1.0', 'quantile': '0.5', 'loss_insensitivity': '0.01', 'huber_delta': '1.0', 'num_classes': '1', 'accuracy_top_k': '3', 'wd': 'auto', 'l1': 'auto', 'momentum': 'auto', 'learning_rate': 'auto', 'beta_1': 'auto', 'beta_2': 'auto', 'bias_lr_mult': 'auto', 'bias_wd_mult': 'auto', 'use_lr_scheduler': 'true', 'lr_scheduler_step': 'auto', 'lr_scheduler_factor': 'auto', 'lr_scheduler_minimum_lr': 'auto', 'positive_example_weight_mult': '1.0', 'balance_multiclass_weights': 'false', 'normalize_data': 'true', 'normalize_label': 'auto', 'unbias_data': 'auto', 'unbias_label': 'auto', 'num_point_for_scaler': '10000', '_kvstore': 'auto', '_num_gpus': 'auto', '_num_kv_servers': 'auto', '_log_level': 'info', '_tuning_objective_metric': '', 'early_stopping_patience': '3', 'early_stopping_tolerance': '0.001', '_enable_profiler': 'false', 'predictor_type': 'regressor'}\u001b[0m\n",
      "\u001b[34m[12/04/2023 03:59:24 WARNING 140240539854656] Loggers have already been setup.\u001b[0m\n",
      "\u001b[34mProcess 7 is a worker.\u001b[0m\n",
      "\u001b[34m[12/04/2023 03:59:24 INFO 140240539854656] Using default worker.\u001b[0m\n",
      "\u001b[34m[12/04/2023 03:59:24 INFO 140240539854656] Checkpoint loading and saving are disabled.\u001b[0m\n",
      "\u001b[34m[2023-12-04 03:59:24.500] [tensorio] [info] epoch_stats={\"data_pipeline\": \"/opt/ml/input/data/train\", \"epoch\": 0, \"duration\": 12, \"num_examples\": 1, \"num_bytes\": 192}\u001b[0m\n",
      "\u001b[34m[12/04/2023 03:59:24 INFO 140240539854656] Create Store: local\u001b[0m\n",
      "\u001b[34m[2023-12-04 03:59:24.516] [tensorio] [info] epoch_stats={\"data_pipeline\": \"/opt/ml/input/data/train\", \"epoch\": 1, \"duration\": 14, \"num_examples\": 2, \"num_bytes\": 240}\u001b[0m\n",
      "\u001b[34m[12/04/2023 03:59:24 INFO 140240539854656] Scaler algorithm parameters\n",
      " <algorithm.scaler.ScalerAlgorithmStable object at 0x7f8bbae9f460>\u001b[0m\n",
      "\u001b[34m[12/04/2023 03:59:24 INFO 140240539854656] Scaling model computed with parameters:\n",
      " {'stdev_label': \u001b[0m\n",
      "\u001b[34m[20.475595]\u001b[0m\n",
      "\u001b[34m<NDArray 1 @cpu(0)>, 'stdev_weight': \u001b[0m\n",
      "\u001b[34m[1.6207637]\u001b[0m\n",
      "\u001b[34m<NDArray 1 @cpu(0)>, 'mean_label': \u001b[0m\n",
      "\u001b[34m[74.5]\u001b[0m\n",
      "\u001b[34m<NDArray 1 @cpu(0)>, 'mean_weight': \u001b[0m\n",
      "\u001b[34m[7.025]\u001b[0m\n",
      "\u001b[34m<NDArray 1 @cpu(0)>}\u001b[0m\n",
      "\u001b[34m/opt/amazon/python3.8/lib/python3.8/subprocess.py:848: RuntimeWarning: line buffering (buffering=1) isn't supported in binary mode, the default buffer size will be used\n",
      "  self.stdout = io.open(c2pread, 'rb', bufsize)\u001b[0m\n",
      "\u001b[34m[12/04/2023 03:59:24 INFO 140240539854656] nvidia-smi: took 0.031 seconds to run.\u001b[0m\n",
      "\u001b[34m[12/04/2023 03:59:24 INFO 140240539854656] nvidia-smi identified 0 GPUs.\u001b[0m\n",
      "\u001b[34m[12/04/2023 03:59:24 INFO 140240539854656] Number of GPUs being used: 0\u001b[0m\n",
      "\u001b[34m#metrics {\"StartTime\": 1701662364.6180563, \"EndTime\": 1701662364.61809, \"Dimensions\": {\"Algorithm\": \"Linear Learner\", \"Host\": \"algo-1\", \"Operation\": \"training\", \"Meta\": \"init_train_data_iter\"}, \"Metrics\": {\"Total Records Seen\": {\"sum\": 9.0, \"count\": 1, \"min\": 9, \"max\": 9}, \"Total Batches Seen\": {\"sum\": 3.0, \"count\": 1, \"min\": 3, \"max\": 3}, \"Max Records Seen Between Resets\": {\"sum\": 5.0, \"count\": 1, \"min\": 5, \"max\": 5}, \"Max Batches Seen Between Resets\": {\"sum\": 2.0, \"count\": 1, \"min\": 2, \"max\": 2}, \"Reset Count\": {\"sum\": 2.0, \"count\": 1, \"min\": 2, \"max\": 2}, \"Number of Records Since Last Reset\": {\"sum\": 0.0, \"count\": 1, \"min\": 0, \"max\": 0}, \"Number of Batches Since Last Reset\": {\"sum\": 0.0, \"count\": 1, \"min\": 0, \"max\": 0}}}\u001b[0m\n",
      "\u001b[34m[2023-12-04 03:59:24.655] [tensorio] [info] epoch_stats={\"data_pipeline\": \"/opt/ml/input/data/train\", \"epoch\": 4, \"duration\": 36, \"num_examples\": 2, \"num_bytes\": 240}\u001b[0m\n",
      "\u001b[34m#metrics {\"StartTime\": 1701662364.6553452, \"EndTime\": 1701662364.6554208, \"Dimensions\": {\"Algorithm\": \"Linear Learner\", \"Host\": \"algo-1\", \"Operation\": \"training\", \"epoch\": 0, \"model\": 0}, \"Metrics\": {\"train_absolute_loss_objective\": {\"sum\": 0.8127237558364868, \"count\": 1, \"min\": 0.8127237558364868, \"max\": 0.8127237558364868}}}\u001b[0m\n",
      "\u001b[34m#metrics {\"StartTime\": 1701662364.6554966, \"EndTime\": 1701662364.6555164, \"Dimensions\": {\"Algorithm\": \"Linear Learner\", \"Host\": \"algo-1\", \"Operation\": \"training\", \"epoch\": 0, \"model\": 1}, \"Metrics\": {\"train_absolute_loss_objective\": {\"sum\": 0.8306556344032288, \"count\": 1, \"min\": 0.8306556344032288, \"max\": 0.8306556344032288}}}\u001b[0m\n",
      "\u001b[34m#metrics {\"StartTime\": 1701662364.6555815, \"EndTime\": 1701662364.6555998, \"Dimensions\": {\"Algorithm\": \"Linear Learner\", \"Host\": \"algo-1\", \"Operation\": \"training\", \"epoch\": 0, \"model\": 2}, \"Metrics\": {\"train_absolute_loss_objective\": {\"sum\": 0.8148959279060364, \"count\": 1, \"min\": 0.8148959279060364, \"max\": 0.8148959279060364}}}\u001b[0m\n",
      "\u001b[34m#metrics {\"StartTime\": 1701662364.6556563, \"EndTime\": 1701662364.6556733, \"Dimensions\": {\"Algorithm\": \"Linear Learner\", \"Host\": \"algo-1\", \"Operation\": \"training\", \"epoch\": 0, \"model\": 3}, \"Metrics\": {\"train_absolute_loss_objective\": {\"sum\": 0.8297392129898071, \"count\": 1, \"min\": 0.8297392129898071, \"max\": 0.8297392129898071}}}\u001b[0m\n",
      "\u001b[34m#metrics {\"StartTime\": 1701662364.6557555, \"EndTime\": 1701662364.6557753, \"Dimensions\": {\"Algorithm\": \"Linear Learner\", \"Host\": \"algo-1\", \"Operation\": \"training\", \"epoch\": 0, \"model\": 4}, \"Metrics\": {\"train_absolute_loss_objective\": {\"sum\": 0.7716342210769653, \"count\": 1, \"min\": 0.7716342210769653, \"max\": 0.7716342210769653}}}\u001b[0m\n",
      "\u001b[34m#metrics {\"StartTime\": 1701662364.6558394, \"EndTime\": 1701662364.6558583, \"Dimensions\": {\"Algorithm\": \"Linear Learner\", \"Host\": \"algo-1\", \"Operation\": \"training\", \"epoch\": 0, \"model\": 5}, \"Metrics\": {\"train_absolute_loss_objective\": {\"sum\": 0.7813964486122131, \"count\": 1, \"min\": 0.7813964486122131, \"max\": 0.7813964486122131}}}\u001b[0m\n",
      "\u001b[34m#metrics {\"StartTime\": 1701662364.6559098, \"EndTime\": 1701662364.655926, \"Dimensions\": {\"Algorithm\": \"Linear Learner\", \"Host\": \"algo-1\", \"Operation\": \"training\", \"epoch\": 0, \"model\": 6}, \"Metrics\": {\"train_absolute_loss_objective\": {\"sum\": 0.8648270964622498, \"count\": 1, \"min\": 0.8648270964622498, \"max\": 0.8648270964622498}}}\u001b[0m\n",
      "\u001b[34m#metrics {\"StartTime\": 1701662364.6559784, \"EndTime\": 1701662364.6559954, \"Dimensions\": {\"Algorithm\": \"Linear Learner\", \"Host\": \"algo-1\", \"Operation\": \"training\", \"epoch\": 0, \"model\": 7}, \"Metrics\": {\"train_absolute_loss_objective\": {\"sum\": 0.8357795476913452, \"count\": 1, \"min\": 0.8357795476913452, \"max\": 0.8357795476913452}}}\u001b[0m\n",
      "\u001b[34m#metrics {\"StartTime\": 1701662364.6560476, \"EndTime\": 1701662364.6560638, \"Dimensions\": {\"Algorithm\": \"Linear Learner\", \"Host\": \"algo-1\", \"Operation\": \"training\", \"epoch\": 0, \"model\": 8}, \"Metrics\": {\"train_absolute_loss_objective\": {\"sum\": 0.8630720376968384, \"count\": 1, \"min\": 0.8630720376968384, \"max\": 0.8630720376968384}}}\u001b[0m\n",
      "\u001b[34m#metrics {\"StartTime\": 1701662364.6561122, \"EndTime\": 1701662364.6561267, \"Dimensions\": {\"Algorithm\": \"Linear Learner\", \"Host\": \"algo-1\", \"Operation\": \"training\", \"epoch\": 0, \"model\": 9}, \"Metrics\": {\"train_absolute_loss_objective\": {\"sum\": 0.8018884062767029, \"count\": 1, \"min\": 0.8018884062767029, \"max\": 0.8018884062767029}}}\u001b[0m\n",
      "\u001b[34m#metrics {\"StartTime\": 1701662364.6561756, \"EndTime\": 1701662364.6561902, \"Dimensions\": {\"Algorithm\": \"Linear Learner\", \"Host\": \"algo-1\", \"Operation\": \"training\", \"epoch\": 0, \"model\": 10}, \"Metrics\": {\"train_absolute_loss_objective\": {\"sum\": 0.8079220056533813, \"count\": 1, \"min\": 0.8079220056533813, \"max\": 0.8079220056533813}}}\u001b[0m\n",
      "\u001b[34m#metrics {\"StartTime\": 1701662364.6562552, \"EndTime\": 1701662364.656273, \"Dimensions\": {\"Algorithm\": \"Linear Learner\", \"Host\": \"algo-1\", \"Operation\": \"training\", \"epoch\": 0, \"model\": 11}, \"Metrics\": {\"train_absolute_loss_objective\": {\"sum\": 0.7945798635482788, \"count\": 1, \"min\": 0.7945798635482788, \"max\": 0.7945798635482788}}}\u001b[0m\n",
      "\u001b[34m#metrics {\"StartTime\": 1701662364.6563349, \"EndTime\": 1701662364.656352, \"Dimensions\": {\"Algorithm\": \"Linear Learner\", \"Host\": \"algo-1\", \"Operation\": \"training\", \"epoch\": 0, \"model\": 12}, \"Metrics\": {\"train_absolute_loss_objective\": {\"sum\": 0.7805036306381226, \"count\": 1, \"min\": 0.7805036306381226, \"max\": 0.7805036306381226}}}\u001b[0m\n",
      "\u001b[34m#metrics {\"StartTime\": 1701662364.6564016, \"EndTime\": 1701662364.6564174, \"Dimensions\": {\"Algorithm\": \"Linear Learner\", \"Host\": \"algo-1\", \"Operation\": \"training\", \"epoch\": 0, \"model\": 13}, \"Metrics\": {\"train_absolute_loss_objective\": {\"sum\": 0.8068403005599976, \"count\": 1, \"min\": 0.8068403005599976, \"max\": 0.8068403005599976}}}\u001b[0m\n",
      "\u001b[34m#metrics {\"StartTime\": 1701662364.6564705, \"EndTime\": 1701662364.6564872, \"Dimensions\": {\"Algorithm\": \"Linear Learner\", \"Host\": \"algo-1\", \"Operation\": \"training\", \"epoch\": 0, \"model\": 14}, \"Metrics\": {\"train_absolute_loss_objective\": {\"sum\": 0.7790117859840393, \"count\": 1, \"min\": 0.7790117859840393, \"max\": 0.7790117859840393}}}\u001b[0m\n",
      "\u001b[34m#metrics {\"StartTime\": 1701662364.6565342, \"EndTime\": 1701662364.6565497, \"Dimensions\": {\"Algorithm\": \"Linear Learner\", \"Host\": \"algo-1\", \"Operation\": \"training\", \"epoch\": 0, \"model\": 15}, \"Metrics\": {\"train_absolute_loss_objective\": {\"sum\": 0.8131523132324219, \"count\": 1, \"min\": 0.8131523132324219, \"max\": 0.8131523132324219}}}\u001b[0m\n",
      "\u001b[34m#metrics {\"StartTime\": 1701662364.6566122, \"EndTime\": 1701662364.6566305, \"Dimensions\": {\"Algorithm\": \"Linear Learner\", \"Host\": \"algo-1\", \"Operation\": \"training\", \"epoch\": 0, \"model\": 16}, \"Metrics\": {\"train_absolute_loss_objective\": {\"sum\": 0.7801780104637146, \"count\": 1, \"min\": 0.7801780104637146, \"max\": 0.7801780104637146}}}\u001b[0m\n",
      "\u001b[34m#metrics {\"StartTime\": 1701662364.656693, \"EndTime\": 1701662364.65671, \"Dimensions\": {\"Algorithm\": \"Linear Learner\", \"Host\": \"algo-1\", \"Operation\": \"training\", \"epoch\": 0, \"model\": 17}, \"Metrics\": {\"train_absolute_loss_objective\": {\"sum\": 0.8263727426528931, \"count\": 1, \"min\": 0.8263727426528931, \"max\": 0.8263727426528931}}}\u001b[0m\n",
      "\u001b[34m#metrics {\"StartTime\": 1701662364.6567707, \"EndTime\": 1701662364.65679, \"Dimensions\": {\"Algorithm\": \"Linear Learner\", \"Host\": \"algo-1\", \"Operation\": \"training\", \"epoch\": 0, \"model\": 18}, \"Metrics\": {\"train_absolute_loss_objective\": {\"sum\": 0.8045719861984253, \"count\": 1, \"min\": 0.8045719861984253, \"max\": 0.8045719861984253}}}\u001b[0m\n",
      "\u001b[34m#metrics {\"StartTime\": 1701662364.656848, \"EndTime\": 1701662364.6568654, \"Dimensions\": {\"Algorithm\": \"Linear Learner\", \"Host\": \"algo-1\", \"Operation\": \"training\", \"epoch\": 0, \"model\": 19}, \"Metrics\": {\"train_absolute_loss_objective\": {\"sum\": 0.8021367788314819, \"count\": 1, \"min\": 0.8021367788314819, \"max\": 0.8021367788314819}}}\u001b[0m\n",
      "\u001b[34m#metrics {\"StartTime\": 1701662364.6569192, \"EndTime\": 1701662364.6569355, \"Dimensions\": {\"Algorithm\": \"Linear Learner\", \"Host\": \"algo-1\", \"Operation\": \"training\", \"epoch\": 0, \"model\": 20}, \"Metrics\": {\"train_absolute_loss_objective\": {\"sum\": 0.8248533606529236, \"count\": 1, \"min\": 0.8248533606529236, \"max\": 0.8248533606529236}}}\u001b[0m\n",
      "\u001b[34m#metrics {\"StartTime\": 1701662364.6569855, \"EndTime\": 1701662364.657001, \"Dimensions\": {\"Algorithm\": \"Linear Learner\", \"Host\": \"algo-1\", \"Operation\": \"training\", \"epoch\": 0, \"model\": 21}, \"Metrics\": {\"train_absolute_loss_objective\": {\"sum\": 0.840126633644104, \"count\": 1, \"min\": 0.840126633644104, \"max\": 0.840126633644104}}}\u001b[0m\n",
      "\u001b[34m#metrics {\"StartTime\": 1701662364.6570628, \"EndTime\": 1701662364.6570797, \"Dimensions\": {\"Algorithm\": \"Linear Learner\", \"Host\": \"algo-1\", \"Operation\": \"training\", \"epoch\": 0, \"model\": 22}, \"Metrics\": {\"train_absolute_loss_objective\": {\"sum\": 0.7753227949142456, \"count\": 1, \"min\": 0.7753227949142456, \"max\": 0.7753227949142456}}}\u001b[0m\n",
      "\u001b[34m#metrics {\"StartTime\": 1701662364.6571386, \"EndTime\": 1701662364.6571565, \"Dimensions\": {\"Algorithm\": \"Linear Learner\", \"Host\": \"algo-1\", \"Operation\": \"training\", \"epoch\": 0, \"model\": 23}, \"Metrics\": {\"train_absolute_loss_objective\": {\"sum\": 0.8663890361785889, \"count\": 1, \"min\": 0.8663890361785889, \"max\": 0.8663890361785889}}}\u001b[0m\n",
      "\u001b[34m#metrics {\"StartTime\": 1701662364.6572063, \"EndTime\": 1701662364.657221, \"Dimensions\": {\"Algorithm\": \"Linear Learner\", \"Host\": \"algo-1\", \"Operation\": \"training\", \"epoch\": 0, \"model\": 24}, \"Metrics\": {\"train_absolute_loss_objective\": {\"sum\": 0.7674829959869385, \"count\": 1, \"min\": 0.7674829959869385, \"max\": 0.7674829959869385}}}\u001b[0m\n",
      "\u001b[34m#metrics {\"StartTime\": 1701662364.6572807, \"EndTime\": 1701662364.657297, \"Dimensions\": {\"Algorithm\": \"Linear Learner\", \"Host\": \"algo-1\", \"Operation\": \"training\", \"epoch\": 0, \"model\": 25}, \"Metrics\": {\"train_absolute_loss_objective\": {\"sum\": 0.8428396582603455, \"count\": 1, \"min\": 0.8428396582603455, \"max\": 0.8428396582603455}}}\u001b[0m\n",
      "\u001b[34m#metrics {\"StartTime\": 1701662364.657351, \"EndTime\": 1701662364.6573663, \"Dimensions\": {\"Algorithm\": \"Linear Learner\", \"Host\": \"algo-1\", \"Operation\": \"training\", \"epoch\": 0, \"model\": 26}, \"Metrics\": {\"train_absolute_loss_objective\": {\"sum\": 0.8307581543922424, \"count\": 1, \"min\": 0.8307581543922424, \"max\": 0.8307581543922424}}}\u001b[0m\n",
      "\u001b[34m#metrics {\"StartTime\": 1701662364.6574154, \"EndTime\": 1701662364.6574311, \"Dimensions\": {\"Algorithm\": \"Linear Learner\", \"Host\": \"algo-1\", \"Operation\": \"training\", \"epoch\": 0, \"model\": 27}, \"Metrics\": {\"train_absolute_loss_objective\": {\"sum\": 0.8204827308654785, \"count\": 1, \"min\": 0.8204827308654785, \"max\": 0.8204827308654785}}}\u001b[0m\n",
      "\u001b[34m#metrics {\"StartTime\": 1701662364.6574838, \"EndTime\": 1701662364.6575003, \"Dimensions\": {\"Algorithm\": \"Linear Learner\", \"Host\": \"algo-1\", \"Operation\": \"training\", \"epoch\": 0, \"model\": 28}, \"Metrics\": {\"train_absolute_loss_objective\": {\"sum\": 0.7862334251403809, \"count\": 1, \"min\": 0.7862334251403809, \"max\": 0.7862334251403809}}}\u001b[0m\n",
      "\u001b[34m#metrics {\"StartTime\": 1701662364.657551, \"EndTime\": 1701662364.6575675, \"Dimensions\": {\"Algorithm\": \"Linear Learner\", \"Host\": \"algo-1\", \"Operation\": \"training\", \"epoch\": 0, \"model\": 29}, \"Metrics\": {\"train_absolute_loss_objective\": {\"sum\": 0.7840039134025574, \"count\": 1, \"min\": 0.7840039134025574, \"max\": 0.7840039134025574}}}\u001b[0m\n",
      "\u001b[34m#metrics {\"StartTime\": 1701662364.6576185, \"EndTime\": 1701662364.6576335, \"Dimensions\": {\"Algorithm\": \"Linear Learner\", \"Host\": \"algo-1\", \"Operation\": \"training\", \"epoch\": 0, \"model\": 30}, \"Metrics\": {\"train_absolute_loss_objective\": {\"sum\": 0.8202306032180786, \"count\": 1, \"min\": 0.8202306032180786, \"max\": 0.8202306032180786}}}\u001b[0m\n",
      "\u001b[34m#metrics {\"StartTime\": 1701662364.6576858, \"EndTime\": 1701662364.657701, \"Dimensions\": {\"Algorithm\": \"Linear Learner\", \"Host\": \"algo-1\", \"Operation\": \"training\", \"epoch\": 0, \"model\": 31}, \"Metrics\": {\"train_absolute_loss_objective\": {\"sum\": 0.8106265664100647, \"count\": 1, \"min\": 0.8106265664100647, \"max\": 0.8106265664100647}}}\u001b[0m\n",
      "\u001b[34m[12/04/2023 03:59:24 INFO 140240539854656] #quality_metric: host=algo-1, epoch=0, train absolute_loss_objective <loss>=0.8127237558364868\u001b[0m\n",
      "\u001b[34m[12/04/2023 03:59:24 INFO 140240539854656] #early_stopping_criteria_metric: host=algo-1, epoch=0, criteria=absolute_loss_objective, value=0.7674829959869385\u001b[0m\n",
      "\u001b[34m[12/04/2023 03:59:24 INFO 140240539854656] Epoch 0: Loss improved. Updating best model\u001b[0m\n",
      "\u001b[34m[12/04/2023 03:59:24 INFO 140240539854656] Saving model for epoch: 0\u001b[0m\n",
      "\u001b[34m[12/04/2023 03:59:24 INFO 140240539854656] Saved checkpoint to \"/tmp/tmp6yxhzlsj/mx-mod-0000.params\"\u001b[0m\n",
      "\u001b[34m[12/04/2023 03:59:24 INFO 140240539854656] #progress_metric: host=algo-1, completed 16.666666666666668 % of epochs\u001b[0m\n",
      "\u001b[34m#metrics {\"StartTime\": 1701662364.6183531, \"EndTime\": 1701662364.6665812, \"Dimensions\": {\"Algorithm\": \"Linear Learner\", \"Host\": \"algo-1\", \"Operation\": \"training\", \"epoch\": 0, \"Meta\": \"training_data_iter\"}, \"Metrics\": {\"Total Records Seen\": {\"sum\": 14.0, \"count\": 1, \"min\": 14, \"max\": 14}, \"Total Batches Seen\": {\"sum\": 5.0, \"count\": 1, \"min\": 5, \"max\": 5}, \"Max Records Seen Between Resets\": {\"sum\": 5.0, \"count\": 1, \"min\": 5, \"max\": 5}, \"Max Batches Seen Between Resets\": {\"sum\": 2.0, \"count\": 1, \"min\": 2, \"max\": 2}, \"Reset Count\": {\"sum\": 3.0, \"count\": 1, \"min\": 3, \"max\": 3}, \"Number of Records Since Last Reset\": {\"sum\": 5.0, \"count\": 1, \"min\": 5, \"max\": 5}, \"Number of Batches Since Last Reset\": {\"sum\": 2.0, \"count\": 1, \"min\": 2, \"max\": 2}}}\u001b[0m\n",
      "\u001b[34m[12/04/2023 03:59:24 INFO 140240539854656] #throughput_metric: host=algo-1, train throughput=103.43281300091243 records/second\u001b[0m\n",
      "\u001b[34m[2023-12-04 03:59:24.689] [tensorio] [info] epoch_stats={\"data_pipeline\": \"/opt/ml/input/data/train\", \"epoch\": 6, \"duration\": 22, \"num_examples\": 2, \"num_bytes\": 240}\u001b[0m\n",
      "\u001b[34m#metrics {\"StartTime\": 1701662364.689089, \"EndTime\": 1701662364.689154, \"Dimensions\": {\"Algorithm\": \"Linear Learner\", \"Host\": \"algo-1\", \"Operation\": \"training\", \"epoch\": 1, \"model\": 0}, \"Metrics\": {\"train_absolute_loss_objective\": {\"sum\": 0.7838287949562073, \"count\": 1, \"min\": 0.7838287949562073, \"max\": 0.7838287949562073}}}\u001b[0m\n",
      "\u001b[34m#metrics {\"StartTime\": 1701662364.6892273, \"EndTime\": 1701662364.689246, \"Dimensions\": {\"Algorithm\": \"Linear Learner\", \"Host\": \"algo-1\", \"Operation\": \"training\", \"epoch\": 1, \"model\": 1}, \"Metrics\": {\"train_absolute_loss_objective\": {\"sum\": 0.8017606735229492, \"count\": 1, \"min\": 0.8017606735229492, \"max\": 0.8017606735229492}}}\u001b[0m\n",
      "\u001b[34m#metrics {\"StartTime\": 1701662364.6893115, \"EndTime\": 1701662364.6893296, \"Dimensions\": {\"Algorithm\": \"Linear Learner\", \"Host\": \"algo-1\", \"Operation\": \"training\", \"epoch\": 1, \"model\": 2}, \"Metrics\": {\"train_absolute_loss_objective\": {\"sum\": 0.7860009670257568, \"count\": 1, \"min\": 0.7860009670257568, \"max\": 0.7860009670257568}}}\u001b[0m\n",
      "\u001b[34m#metrics {\"StartTime\": 1701662364.6893892, \"EndTime\": 1701662364.689406, \"Dimensions\": {\"Algorithm\": \"Linear Learner\", \"Host\": \"algo-1\", \"Operation\": \"training\", \"epoch\": 1, \"model\": 3}, \"Metrics\": {\"train_absolute_loss_objective\": {\"sum\": 0.8008443117141724, \"count\": 1, \"min\": 0.8008443117141724, \"max\": 0.8008443117141724}}}\u001b[0m\n",
      "\u001b[34m#metrics {\"StartTime\": 1701662364.6894674, \"EndTime\": 1701662364.6894855, \"Dimensions\": {\"Algorithm\": \"Linear Learner\", \"Host\": \"algo-1\", \"Operation\": \"training\", \"epoch\": 1, \"model\": 4}, \"Metrics\": {\"train_absolute_loss_objective\": {\"sum\": 1.0000059604644775, \"count\": 1, \"min\": 1.0000059604644775, \"max\": 1.0000059604644775}}}\u001b[0m\n",
      "\u001b[34m#metrics {\"StartTime\": 1701662364.6895373, \"EndTime\": 1701662364.6895535, \"Dimensions\": {\"Algorithm\": \"Linear Learner\", \"Host\": \"algo-1\", \"Operation\": \"training\", \"epoch\": 1, \"model\": 5}, \"Metrics\": {\"train_absolute_loss_objective\": {\"sum\": 1.0000059604644775, \"count\": 1, \"min\": 1.0000059604644775, \"max\": 1.0000059604644775}}}\u001b[0m\n",
      "\u001b[34m#metrics {\"StartTime\": 1701662364.689611, \"EndTime\": 1701662364.6896267, \"Dimensions\": {\"Algorithm\": \"Linear Learner\", \"Host\": \"algo-1\", \"Operation\": \"training\", \"epoch\": 1, \"model\": 6}, \"Metrics\": {\"train_absolute_loss_objective\": {\"sum\": 1.0000059604644775, \"count\": 1, \"min\": 1.0000059604644775, \"max\": 1.0000059604644775}}}\u001b[0m\n",
      "\u001b[34m#metrics {\"StartTime\": 1701662364.689677, \"EndTime\": 1701662364.6896908, \"Dimensions\": {\"Algorithm\": \"Linear Learner\", \"Host\": \"algo-1\", \"Operation\": \"training\", \"epoch\": 1, \"model\": 7}, \"Metrics\": {\"train_absolute_loss_objective\": {\"sum\": 1.0000059604644775, \"count\": 1, \"min\": 1.0000059604644775, \"max\": 1.0000059604644775}}}\u001b[0m\n",
      "\u001b[34m#metrics {\"StartTime\": 1701662364.689747, \"EndTime\": 1701662364.6897628, \"Dimensions\": {\"Algorithm\": \"Linear Learner\", \"Host\": \"algo-1\", \"Operation\": \"training\", \"epoch\": 1, \"model\": 8}, \"Metrics\": {\"train_absolute_loss_objective\": {\"sum\": 0.8341771364212036, \"count\": 1, \"min\": 0.8341771364212036, \"max\": 0.8341771364212036}}}\u001b[0m\n",
      "\u001b[34m#metrics {\"StartTime\": 1701662364.689816, \"EndTime\": 1701662364.6898317, \"Dimensions\": {\"Algorithm\": \"Linear Learner\", \"Host\": \"algo-1\", \"Operation\": \"training\", \"epoch\": 1, \"model\": 9}, \"Metrics\": {\"train_absolute_loss_objective\": {\"sum\": 0.7729934453964233, \"count\": 1, \"min\": 0.7729934453964233, \"max\": 0.7729934453964233}}}\u001b[0m\n",
      "\u001b[34m#metrics {\"StartTime\": 1701662364.6898944, \"EndTime\": 1701662364.6899123, \"Dimensions\": {\"Algorithm\": \"Linear Learner\", \"Host\": \"algo-1\", \"Operation\": \"training\", \"epoch\": 1, \"model\": 10}, \"Metrics\": {\"train_absolute_loss_objective\": {\"sum\": 0.7790270447731018, \"count\": 1, \"min\": 0.7790270447731018, \"max\": 0.7790270447731018}}}\u001b[0m\n",
      "\u001b[34m#metrics {\"StartTime\": 1701662364.6899664, \"EndTime\": 1701662364.6899812, \"Dimensions\": {\"Algorithm\": \"Linear Learner\", \"Host\": \"algo-1\", \"Operation\": \"training\", \"epoch\": 1, \"model\": 11}, \"Metrics\": {\"train_absolute_loss_objective\": {\"sum\": 0.765684962272644, \"count\": 1, \"min\": 0.765684962272644, \"max\": 0.765684962272644}}}\u001b[0m\n",
      "\u001b[34m#metrics {\"StartTime\": 1701662364.690026, \"EndTime\": 1701662364.6900408, \"Dimensions\": {\"Algorithm\": \"Linear Learner\", \"Host\": \"algo-1\", \"Operation\": \"training\", \"epoch\": 1, \"model\": 12}, \"Metrics\": {\"train_absolute_loss_objective\": {\"sum\": 1.0000059604644775, \"count\": 1, \"min\": 1.0000059604644775, \"max\": 1.0000059604644775}}}\u001b[0m\n",
      "\u001b[34m#metrics {\"StartTime\": 1701662364.69009, \"EndTime\": 1701662364.6901026, \"Dimensions\": {\"Algorithm\": \"Linear Learner\", \"Host\": \"algo-1\", \"Operation\": \"training\", \"epoch\": 1, \"model\": 13}, \"Metrics\": {\"train_absolute_loss_objective\": {\"sum\": 1.0000059604644775, \"count\": 1, \"min\": 1.0000059604644775, \"max\": 1.0000059604644775}}}\u001b[0m\n",
      "\u001b[34m#metrics {\"StartTime\": 1701662364.6901555, \"EndTime\": 1701662364.6901705, \"Dimensions\": {\"Algorithm\": \"Linear Learner\", \"Host\": \"algo-1\", \"Operation\": \"training\", \"epoch\": 1, \"model\": 14}, \"Metrics\": {\"train_absolute_loss_objective\": {\"sum\": 1.0000059604644775, \"count\": 1, \"min\": 1.0000059604644775, \"max\": 1.0000059604644775}}}\u001b[0m\n",
      "\u001b[34m#metrics {\"StartTime\": 1701662364.6902168, \"EndTime\": 1701662364.6902297, \"Dimensions\": {\"Algorithm\": \"Linear Learner\", \"Host\": \"algo-1\", \"Operation\": \"training\", \"epoch\": 1, \"model\": 15}, \"Metrics\": {\"train_absolute_loss_objective\": {\"sum\": 1.0000059604644775, \"count\": 1, \"min\": 1.0000059604644775, \"max\": 1.0000059604644775}}}\u001b[0m\n",
      "\u001b[34m#metrics {\"StartTime\": 1701662364.6902816, \"EndTime\": 1701662364.6902952, \"Dimensions\": {\"Algorithm\": \"Linear Learner\", \"Host\": \"algo-1\", \"Operation\": \"training\", \"epoch\": 1, \"model\": 16}, \"Metrics\": {\"train_absolute_loss_objective\": {\"sum\": 0.7512830495834351, \"count\": 1, \"min\": 0.7512830495834351, \"max\": 0.7512830495834351}}}\u001b[0m\n",
      "\u001b[34m#metrics {\"StartTime\": 1701662364.69034, \"EndTime\": 1701662364.6903527, \"Dimensions\": {\"Algorithm\": \"Linear Learner\", \"Host\": \"algo-1\", \"Operation\": \"training\", \"epoch\": 1, \"model\": 17}, \"Metrics\": {\"train_absolute_loss_objective\": {\"sum\": 0.7974777817726135, \"count\": 1, \"min\": 0.7974777817726135, \"max\": 0.7974777817726135}}}\u001b[0m\n",
      "\u001b[34m#metrics {\"StartTime\": 1701662364.690398, \"EndTime\": 1701662364.690411, \"Dimensions\": {\"Algorithm\": \"Linear Learner\", \"Host\": \"algo-1\", \"Operation\": \"training\", \"epoch\": 1, \"model\": 18}, \"Metrics\": {\"train_absolute_loss_objective\": {\"sum\": 0.7756770253181458, \"count\": 1, \"min\": 0.7756770253181458, \"max\": 0.7756770253181458}}}\u001b[0m\n",
      "\u001b[34m#metrics {\"StartTime\": 1701662364.6904528, \"EndTime\": 1701662364.6904655, \"Dimensions\": {\"Algorithm\": \"Linear Learner\", \"Host\": \"algo-1\", \"Operation\": \"training\", \"epoch\": 1, \"model\": 19}, \"Metrics\": {\"train_absolute_loss_objective\": {\"sum\": 0.7732418179512024, \"count\": 1, \"min\": 0.7732418179512024, \"max\": 0.7732418179512024}}}\u001b[0m\n",
      "\u001b[34m#metrics {\"StartTime\": 1701662364.6905167, \"EndTime\": 1701662364.6905322, \"Dimensions\": {\"Algorithm\": \"Linear Learner\", \"Host\": \"algo-1\", \"Operation\": \"training\", \"epoch\": 1, \"model\": 20}, \"Metrics\": {\"train_absolute_loss_objective\": {\"sum\": 1.0000059604644775, \"count\": 1, \"min\": 1.0000059604644775, \"max\": 1.0000059604644775}}}\u001b[0m\n",
      "\u001b[34m#metrics {\"StartTime\": 1701662364.6905775, \"EndTime\": 1701662364.6905904, \"Dimensions\": {\"Algorithm\": \"Linear Learner\", \"Host\": \"algo-1\", \"Operation\": \"training\", \"epoch\": 1, \"model\": 21}, \"Metrics\": {\"train_absolute_loss_objective\": {\"sum\": 1.0000059604644775, \"count\": 1, \"min\": 1.0000059604644775, \"max\": 1.0000059604644775}}}\u001b[0m\n",
      "\u001b[34m#metrics {\"StartTime\": 1701662364.6906343, \"EndTime\": 1701662364.690648, \"Dimensions\": {\"Algorithm\": \"Linear Learner\", \"Host\": \"algo-1\", \"Operation\": \"training\", \"epoch\": 1, \"model\": 22}, \"Metrics\": {\"train_absolute_loss_objective\": {\"sum\": 1.0000059604644775, \"count\": 1, \"min\": 1.0000059604644775, \"max\": 1.0000059604644775}}}\u001b[0m\n",
      "\u001b[34m#metrics {\"StartTime\": 1701662364.6907036, \"EndTime\": 1701662364.6907182, \"Dimensions\": {\"Algorithm\": \"Linear Learner\", \"Host\": \"algo-1\", \"Operation\": \"training\", \"epoch\": 1, \"model\": 23}, \"Metrics\": {\"train_absolute_loss_objective\": {\"sum\": 1.0000059604644775, \"count\": 1, \"min\": 1.0000059604644775, \"max\": 1.0000059604644775}}}\u001b[0m\n",
      "\u001b[34m#metrics {\"StartTime\": 1701662364.6907732, \"EndTime\": 1701662364.690787, \"Dimensions\": {\"Algorithm\": \"Linear Learner\", \"Host\": \"algo-1\", \"Operation\": \"training\", \"epoch\": 1, \"model\": 24}, \"Metrics\": {\"train_absolute_loss_objective\": {\"sum\": 0.7463775873184204, \"count\": 1, \"min\": 0.7463775873184204, \"max\": 0.7463775873184204}}}\u001b[0m\n",
      "\u001b[34m#metrics {\"StartTime\": 1701662364.6908362, \"EndTime\": 1701662364.690851, \"Dimensions\": {\"Algorithm\": \"Linear Learner\", \"Host\": \"algo-1\", \"Operation\": \"training\", \"epoch\": 1, \"model\": 25}, \"Metrics\": {\"train_absolute_loss_objective\": {\"sum\": 0.8139447569847107, \"count\": 1, \"min\": 0.8139447569847107, \"max\": 0.8139447569847107}}}\u001b[0m\n",
      "\u001b[34m#metrics {\"StartTime\": 1701662364.6909022, \"EndTime\": 1701662364.6909175, \"Dimensions\": {\"Algorithm\": \"Linear Learner\", \"Host\": \"algo-1\", \"Operation\": \"training\", \"epoch\": 1, \"model\": 26}, \"Metrics\": {\"train_absolute_loss_objective\": {\"sum\": 0.8018631935119629, \"count\": 1, \"min\": 0.8018631935119629, \"max\": 0.8018631935119629}}}\u001b[0m\n",
      "\u001b[34m#metrics {\"StartTime\": 1701662364.6909657, \"EndTime\": 1701662364.6909828, \"Dimensions\": {\"Algorithm\": \"Linear Learner\", \"Host\": \"algo-1\", \"Operation\": \"training\", \"epoch\": 1, \"model\": 27}, \"Metrics\": {\"train_absolute_loss_objective\": {\"sum\": 0.791587769985199, \"count\": 1, \"min\": 0.791587769985199, \"max\": 0.791587769985199}}}\u001b[0m\n",
      "\u001b[34m#metrics {\"StartTime\": 1701662364.6910293, \"EndTime\": 1701662364.6910443, \"Dimensions\": {\"Algorithm\": \"Linear Learner\", \"Host\": \"algo-1\", \"Operation\": \"training\", \"epoch\": 1, \"model\": 28}, \"Metrics\": {\"train_absolute_loss_objective\": {\"sum\": 1.034818410873413, \"count\": 1, \"min\": 1.034818410873413, \"max\": 1.034818410873413}}}\u001b[0m\n",
      "\u001b[34m#metrics {\"StartTime\": 1701662364.6910877, \"EndTime\": 1701662364.6911023, \"Dimensions\": {\"Algorithm\": \"Linear Learner\", \"Host\": \"algo-1\", \"Operation\": \"training\", \"epoch\": 1, \"model\": 29}, \"Metrics\": {\"train_absolute_loss_objective\": {\"sum\": 1.0331628322601318, \"count\": 1, \"min\": 1.0331628322601318, \"max\": 1.0331628322601318}}}\u001b[0m\n",
      "\u001b[34m#metrics {\"StartTime\": 1701662364.6911523, \"EndTime\": 1701662364.691167, \"Dimensions\": {\"Algorithm\": \"Linear Learner\", \"Host\": \"algo-1\", \"Operation\": \"training\", \"epoch\": 1, \"model\": 30}, \"Metrics\": {\"train_absolute_loss_objective\": {\"sum\": 1.0000059604644775, \"count\": 1, \"min\": 1.0000059604644775, \"max\": 1.0000059604644775}}}\u001b[0m\n",
      "\u001b[34m#metrics {\"StartTime\": 1701662364.6912208, \"EndTime\": 1701662364.6912363, \"Dimensions\": {\"Algorithm\": \"Linear Learner\", \"Host\": \"algo-1\", \"Operation\": \"training\", \"epoch\": 1, \"model\": 31}, \"Metrics\": {\"train_absolute_loss_objective\": {\"sum\": 1.0529320240020752, \"count\": 1, \"min\": 1.0529320240020752, \"max\": 1.0529320240020752}}}\u001b[0m\n",
      "\u001b[34m[12/04/2023 03:59:24 INFO 140240539854656] #quality_metric: host=algo-1, epoch=1, train absolute_loss_objective <loss>=0.7838287949562073\u001b[0m\n",
      "\u001b[34m[12/04/2023 03:59:24 INFO 140240539854656] #early_stopping_criteria_metric: host=algo-1, epoch=1, criteria=absolute_loss_objective, value=0.7463775873184204\u001b[0m\n",
      "\u001b[34m[12/04/2023 03:59:24 INFO 140240539854656] Epoch 1: Loss improved. Updating best model\u001b[0m\n",
      "\u001b[34m[12/04/2023 03:59:24 INFO 140240539854656] Saving model for epoch: 1\u001b[0m\n",
      "\u001b[34m[12/04/2023 03:59:24 INFO 140240539854656] Saved checkpoint to \"/tmp/tmpxrut8qm7/mx-mod-0000.params\"\u001b[0m\n",
      "\u001b[34m[12/04/2023 03:59:24 INFO 140240539854656] #progress_metric: host=algo-1, completed 33.333333333333336 % of epochs\u001b[0m\n",
      "\u001b[34m#metrics {\"StartTime\": 1701662364.666862, \"EndTime\": 1701662364.702821, \"Dimensions\": {\"Algorithm\": \"Linear Learner\", \"Host\": \"algo-1\", \"Operation\": \"training\", \"epoch\": 1, \"Meta\": \"training_data_iter\"}, \"Metrics\": {\"Total Records Seen\": {\"sum\": 19.0, \"count\": 1, \"min\": 19, \"max\": 19}, \"Total Batches Seen\": {\"sum\": 7.0, \"count\": 1, \"min\": 7, \"max\": 7}, \"Max Records Seen Between Resets\": {\"sum\": 5.0, \"count\": 1, \"min\": 5, \"max\": 5}, \"Max Batches Seen Between Resets\": {\"sum\": 2.0, \"count\": 1, \"min\": 2, \"max\": 2}, \"Reset Count\": {\"sum\": 4.0, \"count\": 1, \"min\": 4, \"max\": 4}, \"Number of Records Since Last Reset\": {\"sum\": 5.0, \"count\": 1, \"min\": 5, \"max\": 5}, \"Number of Batches Since Last Reset\": {\"sum\": 2.0, \"count\": 1, \"min\": 2, \"max\": 2}}}\u001b[0m\n",
      "\u001b[34m[12/04/2023 03:59:24 INFO 140240539854656] #throughput_metric: host=algo-1, train throughput=138.54475787804716 records/second\u001b[0m\n",
      "\u001b[34m[2023-12-04 03:59:24.726] [tensorio] [info] epoch_stats={\"data_pipeline\": \"/opt/ml/input/data/train\", \"epoch\": 8, \"duration\": 22, \"num_examples\": 2, \"num_bytes\": 240}\u001b[0m\n",
      "\u001b[34m#metrics {\"StartTime\": 1701662364.7261283, \"EndTime\": 1701662364.7261827, \"Dimensions\": {\"Algorithm\": \"Linear Learner\", \"Host\": \"algo-1\", \"Operation\": \"training\", \"epoch\": 2, \"model\": 0}, \"Metrics\": {\"train_absolute_loss_objective\": {\"sum\": 0.7676560282707214, \"count\": 1, \"min\": 0.7676560282707214, \"max\": 0.7676560282707214}}}\u001b[0m\n",
      "\u001b[34m#metrics {\"StartTime\": 1701662364.72624, \"EndTime\": 1701662364.7262526, \"Dimensions\": {\"Algorithm\": \"Linear Learner\", \"Host\": \"algo-1\", \"Operation\": \"training\", \"epoch\": 2, \"model\": 1}, \"Metrics\": {\"train_absolute_loss_objective\": {\"sum\": 0.786475658416748, \"count\": 1, \"min\": 0.786475658416748, \"max\": 0.786475658416748}}}\u001b[0m\n",
      "\u001b[34m#metrics {\"StartTime\": 1701662364.7262928, \"EndTime\": 1701662364.7263062, \"Dimensions\": {\"Algorithm\": \"Linear Learner\", \"Host\": \"algo-1\", \"Operation\": \"training\", \"epoch\": 2, \"model\": 2}, \"Metrics\": {\"train_absolute_loss_objective\": {\"sum\": 0.7699357867240906, \"count\": 1, \"min\": 0.7699357867240906, \"max\": 0.7699357867240906}}}\u001b[0m\n",
      "\u001b[34m#metrics {\"StartTime\": 1701662364.7263498, \"EndTime\": 1701662364.7263632, \"Dimensions\": {\"Algorithm\": \"Linear Learner\", \"Host\": \"algo-1\", \"Operation\": \"training\", \"epoch\": 2, \"model\": 3}, \"Metrics\": {\"train_absolute_loss_objective\": {\"sum\": 0.7855138778686523, \"count\": 1, \"min\": 0.7855138778686523, \"max\": 0.7855138778686523}}}\u001b[0m\n",
      "\u001b[34m#metrics {\"StartTime\": 1701662364.7264066, \"EndTime\": 1701662364.726418, \"Dimensions\": {\"Algorithm\": \"Linear Learner\", \"Host\": \"algo-1\", \"Operation\": \"training\", \"epoch\": 2, \"model\": 4}, \"Metrics\": {\"train_absolute_loss_objective\": {\"sum\": 0.686479926109314, \"count\": 1, \"min\": 0.686479926109314, \"max\": 0.686479926109314}}}\u001b[0m\n",
      "\u001b[34m#metrics {\"StartTime\": 1701662364.7264514, \"EndTime\": 1701662364.7264605, \"Dimensions\": {\"Algorithm\": \"Linear Learner\", \"Host\": \"algo-1\", \"Operation\": \"training\", \"epoch\": 2, \"model\": 5}, \"Metrics\": {\"train_absolute_loss_objective\": {\"sum\": 0.693729043006897, \"count\": 1, \"min\": 0.693729043006897, \"max\": 0.693729043006897}}}\u001b[0m\n",
      "\u001b[34m#metrics {\"StartTime\": 1701662364.7265131, \"EndTime\": 1701662364.7265265, \"Dimensions\": {\"Algorithm\": \"Linear Learner\", \"Host\": \"algo-1\", \"Operation\": \"training\", \"epoch\": 2, \"model\": 6}, \"Metrics\": {\"train_absolute_loss_objective\": {\"sum\": 0.7556818723678589, \"count\": 1, \"min\": 0.7556818723678589, \"max\": 0.7556818723678589}}}\u001b[0m\n",
      "\u001b[34m#metrics {\"StartTime\": 1701662364.726567, \"EndTime\": 1701662364.7265766, \"Dimensions\": {\"Algorithm\": \"Linear Learner\", \"Host\": \"algo-1\", \"Operation\": \"training\", \"epoch\": 2, \"model\": 7}, \"Metrics\": {\"train_absolute_loss_objective\": {\"sum\": 0.7341121435165405, \"count\": 1, \"min\": 0.7341121435165405, \"max\": 0.7341121435165405}}}\u001b[0m\n",
      "\u001b[34m#metrics {\"StartTime\": 1701662364.7266088, \"EndTime\": 1701662364.7266176, \"Dimensions\": {\"Algorithm\": \"Linear Learner\", \"Host\": \"algo-1\", \"Operation\": \"training\", \"epoch\": 2, \"model\": 8}, \"Metrics\": {\"train_absolute_loss_objective\": {\"sum\": 0.8204968571662903, \"count\": 1, \"min\": 0.8204968571662903, \"max\": 0.8204968571662903}}}\u001b[0m\n",
      "\u001b[34m#metrics {\"StartTime\": 1701662364.7266483, \"EndTime\": 1701662364.7266567, \"Dimensions\": {\"Algorithm\": \"Linear Learner\", \"Host\": \"algo-1\", \"Operation\": \"training\", \"epoch\": 2, \"model\": 9}, \"Metrics\": {\"train_absolute_loss_objective\": {\"sum\": 0.756284236907959, \"count\": 1, \"min\": 0.756284236907959, \"max\": 0.756284236907959}}}\u001b[0m\n",
      "\u001b[34m#metrics {\"StartTime\": 1701662364.7266905, \"EndTime\": 1701662364.7266996, \"Dimensions\": {\"Algorithm\": \"Linear Learner\", \"Host\": \"algo-1\", \"Operation\": \"training\", \"epoch\": 2, \"model\": 10}, \"Metrics\": {\"train_absolute_loss_objective\": {\"sum\": 0.7626165747642517, \"count\": 1, \"min\": 0.7626165747642517, \"max\": 0.7626165747642517}}}\u001b[0m\n",
      "\u001b[34m#metrics {\"StartTime\": 1701662364.726734, \"EndTime\": 1701662364.7267425, \"Dimensions\": {\"Algorithm\": \"Linear Learner\", \"Host\": \"algo-1\", \"Operation\": \"training\", \"epoch\": 2, \"model\": 11}, \"Metrics\": {\"train_absolute_loss_objective\": {\"sum\": 0.7486139535903931, \"count\": 1, \"min\": 0.7486139535903931, \"max\": 0.7486139535903931}}}\u001b[0m\n",
      "\u001b[34m#metrics {\"StartTime\": 1701662364.7267737, \"EndTime\": 1701662364.7267826, \"Dimensions\": {\"Algorithm\": \"Linear Learner\", \"Host\": \"algo-1\", \"Operation\": \"training\", \"epoch\": 2, \"model\": 12}, \"Metrics\": {\"train_absolute_loss_objective\": {\"sum\": 0.6931473016738892, \"count\": 1, \"min\": 0.6931473016738892, \"max\": 0.6931473016738892}}}\u001b[0m\n",
      "\u001b[34m#metrics {\"StartTime\": 1701662364.7268155, \"EndTime\": 1701662364.726825, \"Dimensions\": {\"Algorithm\": \"Linear Learner\", \"Host\": \"algo-1\", \"Operation\": \"training\", \"epoch\": 2, \"model\": 13}, \"Metrics\": {\"train_absolute_loss_objective\": {\"sum\": 0.7126854658126831, \"count\": 1, \"min\": 0.7126854658126831, \"max\": 0.7126854658126831}}}\u001b[0m\n",
      "\u001b[34m#metrics {\"StartTime\": 1701662364.7268562, \"EndTime\": 1701662364.7268636, \"Dimensions\": {\"Algorithm\": \"Linear Learner\", \"Host\": \"algo-1\", \"Operation\": \"training\", \"epoch\": 2, \"model\": 14}, \"Metrics\": {\"train_absolute_loss_objective\": {\"sum\": 0.6920405626296997, \"count\": 1, \"min\": 0.6920405626296997, \"max\": 0.6920405626296997}}}\u001b[0m\n",
      "\u001b[34m#metrics {\"StartTime\": 1701662364.7269058, \"EndTime\": 1701662364.7269208, \"Dimensions\": {\"Algorithm\": \"Linear Learner\", \"Host\": \"algo-1\", \"Operation\": \"training\", \"epoch\": 2, \"model\": 15}, \"Metrics\": {\"train_absolute_loss_objective\": {\"sum\": 0.7173681259155273, \"count\": 1, \"min\": 0.7173681259155273, \"max\": 0.7173681259155273}}}\u001b[0m\n",
      "\u001b[34m#metrics {\"StartTime\": 1701662364.7269685, \"EndTime\": 1701662364.7269833, \"Dimensions\": {\"Algorithm\": \"Linear Learner\", \"Host\": \"algo-1\", \"Operation\": \"training\", \"epoch\": 2, \"model\": 16}, \"Metrics\": {\"train_absolute_loss_objective\": {\"sum\": 0.7334998846054077, \"count\": 1, \"min\": 0.7334998846054077, \"max\": 0.7334998846054077}}}\u001b[0m\n",
      "\u001b[34m#metrics {\"StartTime\": 1701662364.7270403, \"EndTime\": 1701662364.7270563, \"Dimensions\": {\"Algorithm\": \"Linear Learner\", \"Host\": \"algo-1\", \"Operation\": \"training\", \"epoch\": 2, \"model\": 17}, \"Metrics\": {\"train_absolute_loss_objective\": {\"sum\": 0.7819814682006836, \"count\": 1, \"min\": 0.7819814682006836, \"max\": 0.7819814682006836}}}\u001b[0m\n",
      "\u001b[34m#metrics {\"StartTime\": 1701662364.7271051, \"EndTime\": 1701662364.7271206, \"Dimensions\": {\"Algorithm\": \"Linear Learner\", \"Host\": \"algo-1\", \"Operation\": \"training\", \"epoch\": 2, \"model\": 18}, \"Metrics\": {\"train_absolute_loss_objective\": {\"sum\": 0.7591014504432678, \"count\": 1, \"min\": 0.7591014504432678, \"max\": 0.7591014504432678}}}\u001b[0m\n",
      "\u001b[34m#metrics {\"StartTime\": 1701662364.7271636, \"EndTime\": 1701662364.7271788, \"Dimensions\": {\"Algorithm\": \"Linear Learner\", \"Host\": \"algo-1\", \"Operation\": \"training\", \"epoch\": 2, \"model\": 19}, \"Metrics\": {\"train_absolute_loss_objective\": {\"sum\": 0.7565456628799438, \"count\": 1, \"min\": 0.7565456628799438, \"max\": 0.7565456628799438}}}\u001b[0m\n",
      "\u001b[34m#metrics {\"StartTime\": 1701662364.7272267, \"EndTime\": 1701662364.7272422, \"Dimensions\": {\"Algorithm\": \"Linear Learner\", \"Host\": \"algo-1\", \"Operation\": \"training\", \"epoch\": 2, \"model\": 20}, \"Metrics\": {\"train_absolute_loss_objective\": {\"sum\": 0.7312123775482178, \"count\": 1, \"min\": 0.7312123775482178, \"max\": 0.7312123775482178}}}\u001b[0m\n",
      "\u001b[34m#metrics {\"StartTime\": 1701662364.727294, \"EndTime\": 1701662364.7273102, \"Dimensions\": {\"Algorithm\": \"Linear Learner\", \"Host\": \"algo-1\", \"Operation\": \"training\", \"epoch\": 2, \"model\": 21}, \"Metrics\": {\"train_absolute_loss_objective\": {\"sum\": 0.741299033164978, \"count\": 1, \"min\": 0.741299033164978, \"max\": 0.741299033164978}}}\u001b[0m\n",
      "\u001b[34m#metrics {\"StartTime\": 1701662364.7273571, \"EndTime\": 1701662364.7273734, \"Dimensions\": {\"Algorithm\": \"Linear Learner\", \"Host\": \"algo-1\", \"Operation\": \"training\", \"epoch\": 2, \"model\": 22}, \"Metrics\": {\"train_absolute_loss_objective\": {\"sum\": 0.6990814208984375, \"count\": 1, \"min\": 0.6990814208984375, \"max\": 0.6990814208984375}}}\u001b[0m\n",
      "\u001b[34m#metrics {\"StartTime\": 1701662364.7274265, \"EndTime\": 1701662364.7274432, \"Dimensions\": {\"Algorithm\": \"Linear Learner\", \"Host\": \"algo-1\", \"Operation\": \"training\", \"epoch\": 2, \"model\": 23}, \"Metrics\": {\"train_absolute_loss_objective\": {\"sum\": 0.7588217258453369, \"count\": 1, \"min\": 0.7588217258453369, \"max\": 0.7588217258453369}}}\u001b[0m\n",
      "\u001b[34m#metrics {\"StartTime\": 1701662364.7274902, \"EndTime\": 1701662364.727506, \"Dimensions\": {\"Algorithm\": \"Linear Learner\", \"Host\": \"algo-1\", \"Operation\": \"training\", \"epoch\": 2, \"model\": 24}, \"Metrics\": {\"train_absolute_loss_objective\": {\"sum\": 0.7365120649337769, \"count\": 1, \"min\": 0.7365120649337769, \"max\": 0.7365120649337769}}}\u001b[0m\n",
      "\u001b[34m#metrics {\"StartTime\": 1701662364.727554, \"EndTime\": 1701662364.7275696, \"Dimensions\": {\"Algorithm\": \"Linear Learner\", \"Host\": \"algo-1\", \"Operation\": \"training\", \"epoch\": 2, \"model\": 25}, \"Metrics\": {\"train_absolute_loss_objective\": {\"sum\": 0.799286425113678, \"count\": 1, \"min\": 0.799286425113678, \"max\": 0.799286425113678}}}\u001b[0m\n",
      "\u001b[34m#metrics {\"StartTime\": 1701662364.727623, \"EndTime\": 1701662364.7276382, \"Dimensions\": {\"Algorithm\": \"Linear Learner\", \"Host\": \"algo-1\", \"Operation\": \"training\", \"epoch\": 2, \"model\": 26}, \"Metrics\": {\"train_absolute_loss_objective\": {\"sum\": 0.7866348028182983, \"count\": 1, \"min\": 0.7866348028182983, \"max\": 0.7866348028182983}}}\u001b[0m\n",
      "\u001b[34m#metrics {\"StartTime\": 1701662364.7276802, \"EndTime\": 1701662364.727694, \"Dimensions\": {\"Algorithm\": \"Linear Learner\", \"Host\": \"algo-1\", \"Operation\": \"training\", \"epoch\": 2, \"model\": 27}, \"Metrics\": {\"train_absolute_loss_objective\": {\"sum\": 0.7760290503501892, \"count\": 1, \"min\": 0.7760290503501892, \"max\": 0.7760290503501892}}}\u001b[0m\n",
      "\u001b[34m#metrics {\"StartTime\": 1701662364.7277744, \"EndTime\": 1701662364.7277927, \"Dimensions\": {\"Algorithm\": \"Linear Learner\", \"Host\": \"algo-1\", \"Operation\": \"training\", \"epoch\": 2, \"model\": 28}, \"Metrics\": {\"train_absolute_loss_objective\": {\"sum\": 0.987710177898407, \"count\": 1, \"min\": 0.987710177898407, \"max\": 0.987710177898407}}}\u001b[0m\n",
      "\u001b[34m#metrics {\"StartTime\": 1701662364.7278407, \"EndTime\": 1701662364.7278562, \"Dimensions\": {\"Algorithm\": \"Linear Learner\", \"Host\": \"algo-1\", \"Operation\": \"training\", \"epoch\": 2, \"model\": 29}, \"Metrics\": {\"train_absolute_loss_objective\": {\"sum\": 0.9889849424362183, \"count\": 1, \"min\": 0.9889849424362183, \"max\": 0.9889849424362183}}}\u001b[0m\n",
      "\u001b[34m#metrics {\"StartTime\": 1701662364.7278976, \"EndTime\": 1701662364.727912, \"Dimensions\": {\"Algorithm\": \"Linear Learner\", \"Host\": \"algo-1\", \"Operation\": \"training\", \"epoch\": 2, \"model\": 30}, \"Metrics\": {\"train_absolute_loss_objective\": {\"sum\": 0.7999172806739807, \"count\": 1, \"min\": 0.7999172806739807, \"max\": 0.7999172806739807}}}\u001b[0m\n",
      "\u001b[34m#metrics {\"StartTime\": 1701662364.7279568, \"EndTime\": 1701662364.727972, \"Dimensions\": {\"Algorithm\": \"Linear Learner\", \"Host\": \"algo-1\", \"Operation\": \"training\", \"epoch\": 2, \"model\": 31}, \"Metrics\": {\"train_absolute_loss_objective\": {\"sum\": 0.9842783808708191, \"count\": 1, \"min\": 0.9842783808708191, \"max\": 0.9842783808708191}}}\u001b[0m\n",
      "\u001b[34m[12/04/2023 03:59:24 INFO 140240539854656] #quality_metric: host=algo-1, epoch=2, train absolute_loss_objective <loss>=0.7676560282707214\u001b[0m\n",
      "\u001b[34m[12/04/2023 03:59:24 INFO 140240539854656] #early_stopping_criteria_metric: host=algo-1, epoch=2, criteria=absolute_loss_objective, value=0.686479926109314\u001b[0m\n",
      "\u001b[34m[12/04/2023 03:59:24 INFO 140240539854656] Epoch 2: Loss improved. Updating best model\u001b[0m\n",
      "\u001b[34m[12/04/2023 03:59:24 INFO 140240539854656] Saving model for epoch: 2\u001b[0m\n",
      "\u001b[34m[12/04/2023 03:59:24 INFO 140240539854656] Saved checkpoint to \"/tmp/tmpc0oxsi75/mx-mod-0000.params\"\u001b[0m\n",
      "\u001b[34m[12/04/2023 03:59:24 INFO 140240539854656] #progress_metric: host=algo-1, completed 50.0 % of epochs\u001b[0m\n",
      "\u001b[34m#metrics {\"StartTime\": 1701662364.703079, \"EndTime\": 1701662364.7358854, \"Dimensions\": {\"Algorithm\": \"Linear Learner\", \"Host\": \"algo-1\", \"Operation\": \"training\", \"epoch\": 2, \"Meta\": \"training_data_iter\"}, \"Metrics\": {\"Total Records Seen\": {\"sum\": 24.0, \"count\": 1, \"min\": 24, \"max\": 24}, \"Total Batches Seen\": {\"sum\": 9.0, \"count\": 1, \"min\": 9, \"max\": 9}, \"Max Records Seen Between Resets\": {\"sum\": 5.0, \"count\": 1, \"min\": 5, \"max\": 5}, \"Max Batches Seen Between Resets\": {\"sum\": 2.0, \"count\": 1, \"min\": 2, \"max\": 2}, \"Reset Count\": {\"sum\": 5.0, \"count\": 1, \"min\": 5, \"max\": 5}, \"Number of Records Since Last Reset\": {\"sum\": 5.0, \"count\": 1, \"min\": 5, \"max\": 5}, \"Number of Batches Since Last Reset\": {\"sum\": 2.0, \"count\": 1, \"min\": 2, \"max\": 2}}}\u001b[0m\n",
      "\u001b[34m[12/04/2023 03:59:24 INFO 140240539854656] #throughput_metric: host=algo-1, train throughput=151.8739906579281 records/second\u001b[0m\n",
      "\u001b[34m[2023-12-04 03:59:24.758] [tensorio] [info] epoch_stats={\"data_pipeline\": \"/opt/ml/input/data/train\", \"epoch\": 10, \"duration\": 21, \"num_examples\": 2, \"num_bytes\": 240}\u001b[0m\n",
      "\u001b[34m#metrics {\"StartTime\": 1701662364.7583046, \"EndTime\": 1701662364.758358, \"Dimensions\": {\"Algorithm\": \"Linear Learner\", \"Host\": \"algo-1\", \"Operation\": \"training\", \"epoch\": 3, \"model\": 0}, \"Metrics\": {\"train_absolute_loss_objective\": {\"sum\": 0.7635625004768372, \"count\": 1, \"min\": 0.7635625004768372, \"max\": 0.7635625004768372}}}\u001b[0m\n",
      "\u001b[34m#metrics {\"StartTime\": 1701662364.758413, \"EndTime\": 1701662364.7584252, \"Dimensions\": {\"Algorithm\": \"Linear Learner\", \"Host\": \"algo-1\", \"Operation\": \"training\", \"epoch\": 3, \"model\": 1}, \"Metrics\": {\"train_absolute_loss_objective\": {\"sum\": 0.7823820114135742, \"count\": 1, \"min\": 0.7823820114135742, \"max\": 0.7823820114135742}}}\u001b[0m\n",
      "\u001b[34m#metrics {\"StartTime\": 1701662364.7584648, \"EndTime\": 1701662364.758475, \"Dimensions\": {\"Algorithm\": \"Linear Learner\", \"Host\": \"algo-1\", \"Operation\": \"training\", \"epoch\": 3, \"model\": 2}, \"Metrics\": {\"train_absolute_loss_objective\": {\"sum\": 0.7658422589302063, \"count\": 1, \"min\": 0.7658422589302063, \"max\": 0.7658422589302063}}}\u001b[0m\n",
      "\u001b[34m#metrics {\"StartTime\": 1701662364.7585092, \"EndTime\": 1701662364.758518, \"Dimensions\": {\"Algorithm\": \"Linear Learner\", \"Host\": \"algo-1\", \"Operation\": \"training\", \"epoch\": 3, \"model\": 3}, \"Metrics\": {\"train_absolute_loss_objective\": {\"sum\": 0.7814203500747681, \"count\": 1, \"min\": 0.7814203500747681, \"max\": 0.7814203500747681}}}\u001b[0m\n",
      "\u001b[34m#metrics {\"StartTime\": 1701662364.7585614, \"EndTime\": 1701662364.758572, \"Dimensions\": {\"Algorithm\": \"Linear Learner\", \"Host\": \"algo-1\", \"Operation\": \"training\", \"epoch\": 3, \"model\": 4}, \"Metrics\": {\"train_absolute_loss_objective\": {\"sum\": 0.5310400724411011, \"count\": 1, \"min\": 0.5310400724411011, \"max\": 0.5310400724411011}}}\u001b[0m\n",
      "\u001b[34m#metrics {\"StartTime\": 1701662364.7586057, \"EndTime\": 1701662364.7586148, \"Dimensions\": {\"Algorithm\": \"Linear Learner\", \"Host\": \"algo-1\", \"Operation\": \"training\", \"epoch\": 3, \"model\": 5}, \"Metrics\": {\"train_absolute_loss_objective\": {\"sum\": 0.5412853956222534, \"count\": 1, \"min\": 0.5412853956222534, \"max\": 0.5412853956222534}}}\u001b[0m\n",
      "\u001b[34m#metrics {\"StartTime\": 1701662364.7586462, \"EndTime\": 1701662364.7586548, \"Dimensions\": {\"Algorithm\": \"Linear Learner\", \"Host\": \"algo-1\", \"Operation\": \"training\", \"epoch\": 3, \"model\": 6}, \"Metrics\": {\"train_absolute_loss_objective\": {\"sum\": 0.6288448572158813, \"count\": 1, \"min\": 0.6288448572158813, \"max\": 0.6288448572158813}}}\u001b[0m\n",
      "\u001b[34m#metrics {\"StartTime\": 1701662364.7586882, \"EndTime\": 1701662364.7586973, \"Dimensions\": {\"Algorithm\": \"Linear Learner\", \"Host\": \"algo-1\", \"Operation\": \"training\", \"epoch\": 3, \"model\": 7}, \"Metrics\": {\"train_absolute_loss_objective\": {\"sum\": 0.5983598232269287, \"count\": 1, \"min\": 0.5983598232269287, \"max\": 0.5983598232269287}}}\u001b[0m\n",
      "\u001b[34m#metrics {\"StartTime\": 1701662364.7587287, \"EndTime\": 1701662364.7587368, \"Dimensions\": {\"Algorithm\": \"Linear Learner\", \"Host\": \"algo-1\", \"Operation\": \"training\", \"epoch\": 3, \"model\": 8}, \"Metrics\": {\"train_absolute_loss_objective\": {\"sum\": 0.8164032697677612, \"count\": 1, \"min\": 0.8164032697677612, \"max\": 0.8164032697677612}}}\u001b[0m\n",
      "\u001b[34m#metrics {\"StartTime\": 1701662364.7587674, \"EndTime\": 1701662364.7587755, \"Dimensions\": {\"Algorithm\": \"Linear Learner\", \"Host\": \"algo-1\", \"Operation\": \"training\", \"epoch\": 3, \"model\": 9}, \"Metrics\": {\"train_absolute_loss_objective\": {\"sum\": 0.7521907091140747, \"count\": 1, \"min\": 0.7521907091140747, \"max\": 0.7521907091140747}}}\u001b[0m\n",
      "\u001b[34m#metrics {\"StartTime\": 1701662364.758806, \"EndTime\": 1701662364.7588146, \"Dimensions\": {\"Algorithm\": \"Linear Learner\", \"Host\": \"algo-1\", \"Operation\": \"training\", \"epoch\": 3, \"model\": 10}, \"Metrics\": {\"train_absolute_loss_objective\": {\"sum\": 0.7585230469703674, \"count\": 1, \"min\": 0.7585230469703674, \"max\": 0.7585230469703674}}}\u001b[0m\n",
      "\u001b[34m#metrics {\"StartTime\": 1701662364.7588472, \"EndTime\": 1701662364.7588558, \"Dimensions\": {\"Algorithm\": \"Linear Learner\", \"Host\": \"algo-1\", \"Operation\": \"training\", \"epoch\": 3, \"model\": 11}, \"Metrics\": {\"train_absolute_loss_objective\": {\"sum\": 0.7445204257965088, \"count\": 1, \"min\": 0.7445204257965088, \"max\": 0.7445204257965088}}}\u001b[0m\n",
      "\u001b[34m#metrics {\"StartTime\": 1701662364.7588875, \"EndTime\": 1701662364.7588959, \"Dimensions\": {\"Algorithm\": \"Linear Learner\", \"Host\": \"algo-1\", \"Operation\": \"training\", \"epoch\": 3, \"model\": 12}, \"Metrics\": {\"train_absolute_loss_objective\": {\"sum\": 0.5405591130256653, \"count\": 1, \"min\": 0.5405591130256653, \"max\": 0.5405591130256653}}}\u001b[0m\n",
      "\u001b[34m#metrics {\"StartTime\": 1701662364.7589264, \"EndTime\": 1701662364.7589345, \"Dimensions\": {\"Algorithm\": \"Linear Learner\", \"Host\": \"algo-1\", \"Operation\": \"training\", \"epoch\": 3, \"model\": 13}, \"Metrics\": {\"train_absolute_loss_objective\": {\"sum\": 0.5681554079055786, \"count\": 1, \"min\": 0.5681554079055786, \"max\": 0.5681554079055786}}}\u001b[0m\n",
      "\u001b[34m#metrics {\"StartTime\": 1701662364.7589648, \"EndTime\": 1701662364.7589731, \"Dimensions\": {\"Algorithm\": \"Linear Learner\", \"Host\": \"algo-1\", \"Operation\": \"training\", \"epoch\": 3, \"model\": 14}, \"Metrics\": {\"train_absolute_loss_objective\": {\"sum\": 0.5389959216117859, \"count\": 1, \"min\": 0.5389959216117859, \"max\": 0.5389959216117859}}}\u001b[0m\n",
      "\u001b[34m#metrics {\"StartTime\": 1701662364.7590036, \"EndTime\": 1701662364.7590117, \"Dimensions\": {\"Algorithm\": \"Linear Learner\", \"Host\": \"algo-1\", \"Operation\": \"training\", \"epoch\": 3, \"model\": 15}, \"Metrics\": {\"train_absolute_loss_objective\": {\"sum\": 0.5747693181037903, \"count\": 1, \"min\": 0.5747693181037903, \"max\": 0.5747693181037903}}}\u001b[0m\n",
      "\u001b[34m#metrics {\"StartTime\": 1701662364.7590451, \"EndTime\": 1701662364.7590537, \"Dimensions\": {\"Algorithm\": \"Linear Learner\", \"Host\": \"algo-1\", \"Operation\": \"training\", \"epoch\": 3, \"model\": 16}, \"Metrics\": {\"train_absolute_loss_objective\": {\"sum\": 0.7294074892997742, \"count\": 1, \"min\": 0.7294074892997742, \"max\": 0.7294074892997742}}}\u001b[0m\n",
      "\u001b[34m#metrics {\"StartTime\": 1701662364.7590847, \"EndTime\": 1701662364.7590933, \"Dimensions\": {\"Algorithm\": \"Linear Learner\", \"Host\": \"algo-1\", \"Operation\": \"training\", \"epoch\": 3, \"model\": 17}, \"Metrics\": {\"train_absolute_loss_objective\": {\"sum\": 0.7778893709182739, \"count\": 1, \"min\": 0.7778893709182739, \"max\": 0.7778893709182739}}}\u001b[0m\n",
      "\u001b[34m#metrics {\"StartTime\": 1701662364.7591252, \"EndTime\": 1701662364.7591367, \"Dimensions\": {\"Algorithm\": \"Linear Learner\", \"Host\": \"algo-1\", \"Operation\": \"training\", \"epoch\": 3, \"model\": 18}, \"Metrics\": {\"train_absolute_loss_objective\": {\"sum\": 0.7550091743469238, \"count\": 1, \"min\": 0.7550091743469238, \"max\": 0.7550091743469238}}}\u001b[0m\n",
      "\u001b[34m#metrics {\"StartTime\": 1701662364.7591755, \"EndTime\": 1701662364.75919, \"Dimensions\": {\"Algorithm\": \"Linear Learner\", \"Host\": \"algo-1\", \"Operation\": \"training\", \"epoch\": 3, \"model\": 19}, \"Metrics\": {\"train_absolute_loss_objective\": {\"sum\": 0.7524534463882446, \"count\": 1, \"min\": 0.7524534463882446, \"max\": 0.7524534463882446}}}\u001b[0m\n",
      "\u001b[34m#metrics {\"StartTime\": 1701662364.7592416, \"EndTime\": 1701662364.7592578, \"Dimensions\": {\"Algorithm\": \"Linear Learner\", \"Host\": \"algo-1\", \"Operation\": \"training\", \"epoch\": 3, \"model\": 20}, \"Metrics\": {\"train_absolute_loss_objective\": {\"sum\": 0.602300226688385, \"count\": 1, \"min\": 0.602300226688385, \"max\": 0.602300226688385}}}\u001b[0m\n",
      "\u001b[34m#metrics {\"StartTime\": 1701662364.7593048, \"EndTime\": 1701662364.75932, \"Dimensions\": {\"Algorithm\": \"Linear Learner\", \"Host\": \"algo-1\", \"Operation\": \"training\", \"epoch\": 3, \"model\": 21}, \"Metrics\": {\"train_absolute_loss_objective\": {\"sum\": 0.6151418685913086, \"count\": 1, \"min\": 0.6151418685913086, \"max\": 0.6151418685913086}}}\u001b[0m\n",
      "\u001b[34m#metrics {\"StartTime\": 1701662364.7593658, \"EndTime\": 1701662364.7593808, \"Dimensions\": {\"Algorithm\": \"Linear Learner\", \"Host\": \"algo-1\", \"Operation\": \"training\", \"epoch\": 3, \"model\": 22}, \"Metrics\": {\"train_absolute_loss_objective\": {\"sum\": 0.5622657537460327, \"count\": 1, \"min\": 0.5622657537460327, \"max\": 0.5622657537460327}}}\u001b[0m\n",
      "\u001b[34m#metrics {\"StartTime\": 1701662364.7594314, \"EndTime\": 1701662364.759444, \"Dimensions\": {\"Algorithm\": \"Linear Learner\", \"Host\": \"algo-1\", \"Operation\": \"training\", \"epoch\": 3, \"model\": 23}, \"Metrics\": {\"train_absolute_loss_objective\": {\"sum\": 0.6377083659172058, \"count\": 1, \"min\": 0.6377083659172058, \"max\": 0.6377083659172058}}}\u001b[0m\n",
      "\u001b[34m#metrics {\"StartTime\": 1701662364.7594845, \"EndTime\": 1701662364.759499, \"Dimensions\": {\"Algorithm\": \"Linear Learner\", \"Host\": \"algo-1\", \"Operation\": \"training\", \"epoch\": 3, \"model\": 24}, \"Metrics\": {\"train_absolute_loss_objective\": {\"sum\": 0.7405579090118408, \"count\": 1, \"min\": 0.7405579090118408, \"max\": 0.7405579090118408}}}\u001b[0m\n",
      "\u001b[34m#metrics {\"StartTime\": 1701662364.7595456, \"EndTime\": 1701662364.7595606, \"Dimensions\": {\"Algorithm\": \"Linear Learner\", \"Host\": \"algo-1\", \"Operation\": \"training\", \"epoch\": 3, \"model\": 25}, \"Metrics\": {\"train_absolute_loss_objective\": {\"sum\": 0.7952633500099182, \"count\": 1, \"min\": 0.7952633500099182, \"max\": 0.7952633500099182}}}\u001b[0m\n",
      "\u001b[34m#metrics {\"StartTime\": 1701662364.759613, \"EndTime\": 1701662364.7596228, \"Dimensions\": {\"Algorithm\": \"Linear Learner\", \"Host\": \"algo-1\", \"Operation\": \"training\", \"epoch\": 3, \"model\": 26}, \"Metrics\": {\"train_absolute_loss_objective\": {\"sum\": 0.7826975584030151, \"count\": 1, \"min\": 0.7826975584030151, \"max\": 0.7826975584030151}}}\u001b[0m\n",
      "\u001b[34m#metrics {\"StartTime\": 1701662364.7596686, \"EndTime\": 1701662364.7596836, \"Dimensions\": {\"Algorithm\": \"Linear Learner\", \"Host\": \"algo-1\", \"Operation\": \"training\", \"epoch\": 3, \"model\": 27}, \"Metrics\": {\"train_absolute_loss_objective\": {\"sum\": 0.7727405428886414, \"count\": 1, \"min\": 0.7727405428886414, \"max\": 0.7727405428886414}}}\u001b[0m\n",
      "\u001b[34m#metrics {\"StartTime\": 1701662364.7597659, \"EndTime\": 1701662364.759783, \"Dimensions\": {\"Algorithm\": \"Linear Learner\", \"Host\": \"algo-1\", \"Operation\": \"training\", \"epoch\": 3, \"model\": 28}, \"Metrics\": {\"train_absolute_loss_objective\": {\"sum\": 0.759971559047699, \"count\": 1, \"min\": 0.759971559047699, \"max\": 0.759971559047699}}}\u001b[0m\n",
      "\u001b[34m#metrics {\"StartTime\": 1701662364.7598352, \"EndTime\": 1701662364.7598484, \"Dimensions\": {\"Algorithm\": \"Linear Learner\", \"Host\": \"algo-1\", \"Operation\": \"training\", \"epoch\": 3, \"model\": 29}, \"Metrics\": {\"train_absolute_loss_objective\": {\"sum\": 0.7634599208831787, \"count\": 1, \"min\": 0.7634599208831787, \"max\": 0.7634599208831787}}}\u001b[0m\n",
      "\u001b[34m#metrics {\"StartTime\": 1701662364.7599099, \"EndTime\": 1701662364.759921, \"Dimensions\": {\"Algorithm\": \"Linear Learner\", \"Host\": \"algo-1\", \"Operation\": \"training\", \"epoch\": 3, \"model\": 30}, \"Metrics\": {\"train_absolute_loss_objective\": {\"sum\": 0.8101754784584045, \"count\": 1, \"min\": 0.8101754784584045, \"max\": 0.8101754784584045}}}\u001b[0m\n",
      "\u001b[34m#metrics {\"StartTime\": 1701662364.7599647, \"EndTime\": 1701662364.7599802, \"Dimensions\": {\"Algorithm\": \"Linear Learner\", \"Host\": \"algo-1\", \"Operation\": \"training\", \"epoch\": 3, \"model\": 31}, \"Metrics\": {\"train_absolute_loss_objective\": {\"sum\": 0.742731511592865, \"count\": 1, \"min\": 0.742731511592865, \"max\": 0.742731511592865}}}\u001b[0m\n",
      "\u001b[34m[12/04/2023 03:59:24 INFO 140240539854656] #quality_metric: host=algo-1, epoch=3, train absolute_loss_objective <loss>=0.7635625004768372\u001b[0m\n",
      "\u001b[34m[12/04/2023 03:59:24 INFO 140240539854656] #early_stopping_criteria_metric: host=algo-1, epoch=3, criteria=absolute_loss_objective, value=0.5310400724411011\u001b[0m\n",
      "\u001b[34m[12/04/2023 03:59:24 INFO 140240539854656] Epoch 3: Loss improved. Updating best model\u001b[0m\n",
      "\u001b[34m[12/04/2023 03:59:24 INFO 140240539854656] Saving model for epoch: 3\u001b[0m\n",
      "\u001b[34m[12/04/2023 03:59:24 INFO 140240539854656] Saved checkpoint to \"/tmp/tmp4eaw_4wt/mx-mod-0000.params\"\u001b[0m\n",
      "\u001b[34m[12/04/2023 03:59:24 INFO 140240539854656] #progress_metric: host=algo-1, completed 66.66666666666667 % of epochs\u001b[0m\n",
      "\u001b[34m#metrics {\"StartTime\": 1701662364.7361517, \"EndTime\": 1701662364.76775, \"Dimensions\": {\"Algorithm\": \"Linear Learner\", \"Host\": \"algo-1\", \"Operation\": \"training\", \"epoch\": 3, \"Meta\": \"training_data_iter\"}, \"Metrics\": {\"Total Records Seen\": {\"sum\": 29.0, \"count\": 1, \"min\": 29, \"max\": 29}, \"Total Batches Seen\": {\"sum\": 11.0, \"count\": 1, \"min\": 11, \"max\": 11}, \"Max Records Seen Between Resets\": {\"sum\": 5.0, \"count\": 1, \"min\": 5, \"max\": 5}, \"Max Batches Seen Between Resets\": {\"sum\": 2.0, \"count\": 1, \"min\": 2, \"max\": 2}, \"Reset Count\": {\"sum\": 6.0, \"count\": 1, \"min\": 6, \"max\": 6}, \"Number of Records Since Last Reset\": {\"sum\": 5.0, \"count\": 1, \"min\": 5, \"max\": 5}, \"Number of Batches Since Last Reset\": {\"sum\": 2.0, \"count\": 1, \"min\": 2, \"max\": 2}}}\u001b[0m\n",
      "\u001b[34m[12/04/2023 03:59:24 INFO 140240539854656] #throughput_metric: host=algo-1, train throughput=157.56686902686783 records/second\u001b[0m\n",
      "\u001b[34m[2023-12-04 03:59:24.789] [tensorio] [info] epoch_stats={\"data_pipeline\": \"/opt/ml/input/data/train\", \"epoch\": 12, \"duration\": 21, \"num_examples\": 2, \"num_bytes\": 240}\u001b[0m\n",
      "\u001b[34m#metrics {\"StartTime\": 1701662364.789896, \"EndTime\": 1701662364.7899494, \"Dimensions\": {\"Algorithm\": \"Linear Learner\", \"Host\": \"algo-1\", \"Operation\": \"training\", \"epoch\": 4, \"model\": 0}, \"Metrics\": {\"train_absolute_loss_objective\": {\"sum\": 0.7594658136367798, \"count\": 1, \"min\": 0.7594658136367798, \"max\": 0.7594658136367798}}}\u001b[0m\n",
      "\u001b[34m#metrics {\"StartTime\": 1701662364.790005, \"EndTime\": 1701662364.7900176, \"Dimensions\": {\"Algorithm\": \"Linear Learner\", \"Host\": \"algo-1\", \"Operation\": \"training\", \"epoch\": 4, \"model\": 1}, \"Metrics\": {\"train_absolute_loss_objective\": {\"sum\": 0.7782853841781616, \"count\": 1, \"min\": 0.7782853841781616, \"max\": 0.7782853841781616}}}\u001b[0m\n",
      "\u001b[34m#metrics {\"StartTime\": 1701662364.7900608, \"EndTime\": 1701662364.790076, \"Dimensions\": {\"Algorithm\": \"Linear Learner\", \"Host\": \"algo-1\", \"Operation\": \"training\", \"epoch\": 4, \"model\": 2}, \"Metrics\": {\"train_absolute_loss_objective\": {\"sum\": 0.7617455720901489, \"count\": 1, \"min\": 0.7617455720901489, \"max\": 0.7617455720901489}}}\u001b[0m\n",
      "\u001b[34m#metrics {\"StartTime\": 1701662364.7901163, \"EndTime\": 1701662364.7901282, \"Dimensions\": {\"Algorithm\": \"Linear Learner\", \"Host\": \"algo-1\", \"Operation\": \"training\", \"epoch\": 4, \"model\": 3}, \"Metrics\": {\"train_absolute_loss_objective\": {\"sum\": 0.7773236632347107, \"count\": 1, \"min\": 0.7773236632347107, \"max\": 0.7773236632347107}}}\u001b[0m\n",
      "\u001b[34m#metrics {\"StartTime\": 1701662364.7901723, \"EndTime\": 1701662364.7901838, \"Dimensions\": {\"Algorithm\": \"Linear Learner\", \"Host\": \"algo-1\", \"Operation\": \"training\", \"epoch\": 4, \"model\": 4}, \"Metrics\": {\"train_absolute_loss_objective\": {\"sum\": 0.6667697429656982, \"count\": 1, \"min\": 0.6667697429656982, \"max\": 0.6667697429656982}}}\u001b[0m\n",
      "\u001b[34m#metrics {\"StartTime\": 1701662364.7902179, \"EndTime\": 1701662364.7902272, \"Dimensions\": {\"Algorithm\": \"Linear Learner\", \"Host\": \"algo-1\", \"Operation\": \"training\", \"epoch\": 4, \"model\": 5}, \"Metrics\": {\"train_absolute_loss_objective\": {\"sum\": 0.6765317916870117, \"count\": 1, \"min\": 0.6765317916870117, \"max\": 0.6765317916870117}}}\u001b[0m\n",
      "\u001b[34m#metrics {\"StartTime\": 1701662364.790259, \"EndTime\": 1701662364.7902677, \"Dimensions\": {\"Algorithm\": \"Linear Learner\", \"Host\": \"algo-1\", \"Operation\": \"training\", \"epoch\": 4, \"model\": 6}, \"Metrics\": {\"train_absolute_loss_objective\": {\"sum\": 0.7599607706069946, \"count\": 1, \"min\": 0.7599607706069946, \"max\": 0.7599607706069946}}}\u001b[0m\n",
      "\u001b[34m#metrics {\"StartTime\": 1701662364.7903116, \"EndTime\": 1701662364.790322, \"Dimensions\": {\"Algorithm\": \"Linear Learner\", \"Host\": \"algo-1\", \"Operation\": \"training\", \"epoch\": 4, \"model\": 7}, \"Metrics\": {\"train_absolute_loss_objective\": {\"sum\": 0.7309137582778931, \"count\": 1, \"min\": 0.7309137582778931, \"max\": 0.7309137582778931}}}\u001b[0m\n",
      "\u001b[34m#metrics {\"StartTime\": 1701662364.790356, \"EndTime\": 1701662364.7903647, \"Dimensions\": {\"Algorithm\": \"Linear Learner\", \"Host\": \"algo-1\", \"Operation\": \"training\", \"epoch\": 4, \"model\": 8}, \"Metrics\": {\"train_absolute_loss_objective\": {\"sum\": 0.8123066425323486, \"count\": 1, \"min\": 0.8123066425323486, \"max\": 0.8123066425323486}}}\u001b[0m\n",
      "\u001b[34m#metrics {\"StartTime\": 1701662364.7903957, \"EndTime\": 1701662364.7904043, \"Dimensions\": {\"Algorithm\": \"Linear Learner\", \"Host\": \"algo-1\", \"Operation\": \"training\", \"epoch\": 4, \"model\": 9}, \"Metrics\": {\"train_absolute_loss_objective\": {\"sum\": 0.7480940222740173, \"count\": 1, \"min\": 0.7480940222740173, \"max\": 0.7480940222740173}}}\u001b[0m\n",
      "\u001b[34m#metrics {\"StartTime\": 1701662364.7904387, \"EndTime\": 1701662364.7904477, \"Dimensions\": {\"Algorithm\": \"Linear Learner\", \"Host\": \"algo-1\", \"Operation\": \"training\", \"epoch\": 4, \"model\": 10}, \"Metrics\": {\"train_absolute_loss_objective\": {\"sum\": 0.7544263601303101, \"count\": 1, \"min\": 0.7544263601303101, \"max\": 0.7544263601303101}}}\u001b[0m\n",
      "\u001b[34m#metrics {\"StartTime\": 1701662364.7904792, \"EndTime\": 1701662364.7904875, \"Dimensions\": {\"Algorithm\": \"Linear Learner\", \"Host\": \"algo-1\", \"Operation\": \"training\", \"epoch\": 4, \"model\": 11}, \"Metrics\": {\"train_absolute_loss_objective\": {\"sum\": 0.7404237389564514, \"count\": 1, \"min\": 0.7404237389564514, \"max\": 0.7404237389564514}}}\u001b[0m\n",
      "\u001b[34m#metrics {\"StartTime\": 1701662364.790518, \"EndTime\": 1701662364.7905264, \"Dimensions\": {\"Algorithm\": \"Linear Learner\", \"Host\": \"algo-1\", \"Operation\": \"training\", \"epoch\": 4, \"model\": 12}, \"Metrics\": {\"train_absolute_loss_objective\": {\"sum\": 0.6758986711502075, \"count\": 1, \"min\": 0.6758986711502075, \"max\": 0.6758986711502075}}}\u001b[0m\n",
      "\u001b[34m#metrics {\"StartTime\": 1701662364.7905567, \"EndTime\": 1701662364.7905657, \"Dimensions\": {\"Algorithm\": \"Linear Learner\", \"Host\": \"algo-1\", \"Operation\": \"training\", \"epoch\": 4, \"model\": 13}, \"Metrics\": {\"train_absolute_loss_objective\": {\"sum\": 0.7021827697753906, \"count\": 1, \"min\": 0.7021827697753906, \"max\": 0.7021827697753906}}}\u001b[0m\n",
      "\u001b[34m#metrics {\"StartTime\": 1701662364.790596, \"EndTime\": 1701662364.7906048, \"Dimensions\": {\"Algorithm\": \"Linear Learner\", \"Host\": \"algo-1\", \"Operation\": \"training\", \"epoch\": 4, \"model\": 14}, \"Metrics\": {\"train_absolute_loss_objective\": {\"sum\": 0.6744098663330078, \"count\": 1, \"min\": 0.6744098663330078, \"max\": 0.6744098663330078}}}\u001b[0m\n",
      "\u001b[34m#metrics {\"StartTime\": 1701662364.7906353, \"EndTime\": 1701662364.7906437, \"Dimensions\": {\"Algorithm\": \"Linear Learner\", \"Host\": \"algo-1\", \"Operation\": \"training\", \"epoch\": 4, \"model\": 15}, \"Metrics\": {\"train_absolute_loss_objective\": {\"sum\": 0.7084822058677673, \"count\": 1, \"min\": 0.7084822058677673, \"max\": 0.7084822058677673}}}\u001b[0m\n",
      "\u001b[34m#metrics {\"StartTime\": 1701662364.7906742, \"EndTime\": 1701662364.7906828, \"Dimensions\": {\"Algorithm\": \"Linear Learner\", \"Host\": \"algo-1\", \"Operation\": \"training\", \"epoch\": 4, \"model\": 16}, \"Metrics\": {\"train_absolute_loss_objective\": {\"sum\": 0.7253131866455078, \"count\": 1, \"min\": 0.7253131866455078, \"max\": 0.7253131866455078}}}\u001b[0m\n",
      "\u001b[34m#metrics {\"StartTime\": 1701662364.790713, \"EndTime\": 1701662364.7907217, \"Dimensions\": {\"Algorithm\": \"Linear Learner\", \"Host\": \"algo-1\", \"Operation\": \"training\", \"epoch\": 4, \"model\": 17}, \"Metrics\": {\"train_absolute_loss_objective\": {\"sum\": 0.773795485496521, \"count\": 1, \"min\": 0.773795485496521, \"max\": 0.773795485496521}}}\u001b[0m\n",
      "\u001b[34m#metrics {\"StartTime\": 1701662364.7907515, \"EndTime\": 1701662364.79076, \"Dimensions\": {\"Algorithm\": \"Linear Learner\", \"Host\": \"algo-1\", \"Operation\": \"training\", \"epoch\": 4, \"model\": 18}, \"Metrics\": {\"train_absolute_loss_objective\": {\"sum\": 0.7509151697158813, \"count\": 1, \"min\": 0.7509151697158813, \"max\": 0.7509151697158813}}}\u001b[0m\n",
      "\u001b[34m#metrics {\"StartTime\": 1701662364.7907932, \"EndTime\": 1701662364.790801, \"Dimensions\": {\"Algorithm\": \"Linear Learner\", \"Host\": \"algo-1\", \"Operation\": \"training\", \"epoch\": 4, \"model\": 19}, \"Metrics\": {\"train_absolute_loss_objective\": {\"sum\": 0.7483593225479126, \"count\": 1, \"min\": 0.7483593225479126, \"max\": 0.7483593225479126}}}\u001b[0m\n",
      "\u001b[34m#metrics {\"StartTime\": 1701662364.790848, \"EndTime\": 1701662364.7908642, \"Dimensions\": {\"Algorithm\": \"Linear Learner\", \"Host\": \"algo-1\", \"Operation\": \"training\", \"epoch\": 4, \"model\": 20}, \"Metrics\": {\"train_absolute_loss_objective\": {\"sum\": 0.7405446767807007, \"count\": 1, \"min\": 0.7405446767807007, \"max\": 0.7405446767807007}}}\u001b[0m\n",
      "\u001b[34m#metrics {\"StartTime\": 1701662364.7909129, \"EndTime\": 1701662364.7909284, \"Dimensions\": {\"Algorithm\": \"Linear Learner\", \"Host\": \"algo-1\", \"Operation\": \"training\", \"epoch\": 4, \"model\": 21}, \"Metrics\": {\"train_absolute_loss_objective\": {\"sum\": 0.7518616914749146, \"count\": 1, \"min\": 0.7518616914749146, \"max\": 0.7518616914749146}}}\u001b[0m\n",
      "\u001b[34m#metrics {\"StartTime\": 1701662364.7909875, \"EndTime\": 1701662364.7910044, \"Dimensions\": {\"Algorithm\": \"Linear Learner\", \"Host\": \"algo-1\", \"Operation\": \"training\", \"epoch\": 4, \"model\": 22}, \"Metrics\": {\"train_absolute_loss_objective\": {\"sum\": 0.7059071660041809, \"count\": 1, \"min\": 0.7059071660041809, \"max\": 0.7059071660041809}}}\u001b[0m\n",
      "\u001b[34m#metrics {\"StartTime\": 1701662364.7910523, \"EndTime\": 1701662364.7910666, \"Dimensions\": {\"Algorithm\": \"Linear Learner\", \"Host\": \"algo-1\", \"Operation\": \"training\", \"epoch\": 4, \"model\": 23}, \"Metrics\": {\"train_absolute_loss_objective\": {\"sum\": 0.7719376087188721, \"count\": 1, \"min\": 0.7719376087188721, \"max\": 0.7719376087188721}}}\u001b[0m\n",
      "\u001b[34m#metrics {\"StartTime\": 1701662364.7911136, \"EndTime\": 1701662364.791129, \"Dimensions\": {\"Algorithm\": \"Linear Learner\", \"Host\": \"algo-1\", \"Operation\": \"training\", \"epoch\": 4, \"model\": 24}, \"Metrics\": {\"train_absolute_loss_objective\": {\"sum\": 0.7445634603500366, \"count\": 1, \"min\": 0.7445634603500366, \"max\": 0.7445634603500366}}}\u001b[0m\n",
      "\u001b[34m#metrics {\"StartTime\": 1701662364.791188, \"EndTime\": 1701662364.7912054, \"Dimensions\": {\"Algorithm\": \"Linear Learner\", \"Host\": \"algo-1\", \"Operation\": \"training\", \"epoch\": 4, \"model\": 25}, \"Metrics\": {\"train_absolute_loss_objective\": {\"sum\": 0.791309118270874, \"count\": 1, \"min\": 0.791309118270874, \"max\": 0.791309118270874}}}\u001b[0m\n",
      "\u001b[34m#metrics {\"StartTime\": 1701662364.7912486, \"EndTime\": 1701662364.7912629, \"Dimensions\": {\"Algorithm\": \"Linear Learner\", \"Host\": \"algo-1\", \"Operation\": \"training\", \"epoch\": 4, \"model\": 26}, \"Metrics\": {\"train_absolute_loss_objective\": {\"sum\": 0.7789428234100342, \"count\": 1, \"min\": 0.7789428234100342, \"max\": 0.7789428234100342}}}\u001b[0m\n",
      "\u001b[34m#metrics {\"StartTime\": 1701662364.791309, \"EndTime\": 1701662364.791324, \"Dimensions\": {\"Algorithm\": \"Linear Learner\", \"Host\": \"algo-1\", \"Operation\": \"training\", \"epoch\": 4, \"model\": 27}, \"Metrics\": {\"train_absolute_loss_objective\": {\"sum\": 0.7705515623092651, \"count\": 1, \"min\": 0.7705515623092651, \"max\": 0.7705515623092651}}}\u001b[0m\n",
      "\u001b[34m#metrics {\"StartTime\": 1701662364.7913687, \"EndTime\": 1701662364.791383, \"Dimensions\": {\"Algorithm\": \"Linear Learner\", \"Host\": \"algo-1\", \"Operation\": \"training\", \"epoch\": 4, \"model\": 28}, \"Metrics\": {\"train_absolute_loss_objective\": {\"sum\": 0.7383756637573242, \"count\": 1, \"min\": 0.7383756637573242, \"max\": 0.7383756637573242}}}\u001b[0m\n",
      "\u001b[34m#metrics {\"StartTime\": 1701662364.7914271, \"EndTime\": 1701662364.7914417, \"Dimensions\": {\"Algorithm\": \"Linear Learner\", \"Host\": \"algo-1\", \"Operation\": \"training\", \"epoch\": 4, \"model\": 29}, \"Metrics\": {\"train_absolute_loss_objective\": {\"sum\": 0.7404701113700867, \"count\": 1, \"min\": 0.7404701113700867, \"max\": 0.7404701113700867}}}\u001b[0m\n",
      "\u001b[34m#metrics {\"StartTime\": 1701662364.7914925, \"EndTime\": 1701662364.791508, \"Dimensions\": {\"Algorithm\": \"Linear Learner\", \"Host\": \"algo-1\", \"Operation\": \"training\", \"epoch\": 4, \"model\": 30}, \"Metrics\": {\"train_absolute_loss_objective\": {\"sum\": 1.0213737487792969, \"count\": 1, \"min\": 1.0213737487792969, \"max\": 1.0213737487792969}}}\u001b[0m\n",
      "\u001b[34m#metrics {\"StartTime\": 1701662364.7915454, \"EndTime\": 1701662364.7915592, \"Dimensions\": {\"Algorithm\": \"Linear Learner\", \"Host\": \"algo-1\", \"Operation\": \"training\", \"epoch\": 4, \"model\": 31}, \"Metrics\": {\"train_absolute_loss_objective\": {\"sum\": 0.7715564370155334, \"count\": 1, \"min\": 0.7715564370155334, \"max\": 0.7715564370155334}}}\u001b[0m\n",
      "\u001b[34m[12/04/2023 03:59:24 INFO 140240539854656] #quality_metric: host=algo-1, epoch=4, train absolute_loss_objective <loss>=0.7594658136367798\u001b[0m\n",
      "\u001b[34m[12/04/2023 03:59:24 INFO 140240539854656] #early_stopping_criteria_metric: host=algo-1, epoch=4, criteria=absolute_loss_objective, value=0.6667697429656982\u001b[0m\n",
      "\u001b[34m[12/04/2023 03:59:24 INFO 140240539854656] Saving model for epoch: 4\u001b[0m\n",
      "\u001b[34m[12/04/2023 03:59:24 INFO 140240539854656] Saved checkpoint to \"/tmp/tmpo392uaet/mx-mod-0000.params\"\u001b[0m\n",
      "\u001b[34m[12/04/2023 03:59:24 INFO 140240539854656] #progress_metric: host=algo-1, completed 83.33333333333333 % of epochs\u001b[0m\n",
      "\u001b[34m#metrics {\"StartTime\": 1701662364.7680051, \"EndTime\": 1701662364.7986453, \"Dimensions\": {\"Algorithm\": \"Linear Learner\", \"Host\": \"algo-1\", \"Operation\": \"training\", \"epoch\": 4, \"Meta\": \"training_data_iter\"}, \"Metrics\": {\"Total Records Seen\": {\"sum\": 34.0, \"count\": 1, \"min\": 34, \"max\": 34}, \"Total Batches Seen\": {\"sum\": 13.0, \"count\": 1, \"min\": 13, \"max\": 13}, \"Max Records Seen Between Resets\": {\"sum\": 5.0, \"count\": 1, \"min\": 5, \"max\": 5}, \"Max Batches Seen Between Resets\": {\"sum\": 2.0, \"count\": 1, \"min\": 2, \"max\": 2}, \"Reset Count\": {\"sum\": 7.0, \"count\": 1, \"min\": 7, \"max\": 7}, \"Number of Records Since Last Reset\": {\"sum\": 5.0, \"count\": 1, \"min\": 5, \"max\": 5}, \"Number of Batches Since Last Reset\": {\"sum\": 2.0, \"count\": 1, \"min\": 2, \"max\": 2}}}\u001b[0m\n",
      "\u001b[34m[12/04/2023 03:59:24 INFO 140240539854656] #throughput_metric: host=algo-1, train throughput=162.55858118425846 records/second\u001b[0m\n",
      "\u001b[34m[2023-12-04 03:59:24.825] [tensorio] [info] epoch_stats={\"data_pipeline\": \"/opt/ml/input/data/train\", \"epoch\": 14, \"duration\": 26, \"num_examples\": 2, \"num_bytes\": 240}\u001b[0m\n",
      "\u001b[34m#metrics {\"StartTime\": 1701662364.8255572, \"EndTime\": 1701662364.8256269, \"Dimensions\": {\"Algorithm\": \"Linear Learner\", \"Host\": \"algo-1\", \"Operation\": \"training\", \"epoch\": 5, \"model\": 0}, \"Metrics\": {\"train_absolute_loss_objective\": {\"sum\": 0.7553672790527344, \"count\": 1, \"min\": 0.7553672790527344, \"max\": 0.7553672790527344}}}\u001b[0m\n",
      "\u001b[34m#metrics {\"StartTime\": 1701662364.8257036, \"EndTime\": 1701662364.8257658, \"Dimensions\": {\"Algorithm\": \"Linear Learner\", \"Host\": \"algo-1\", \"Operation\": \"training\", \"epoch\": 5, \"model\": 1}, \"Metrics\": {\"train_absolute_loss_objective\": {\"sum\": 0.774186909198761, \"count\": 1, \"min\": 0.774186909198761, \"max\": 0.774186909198761}}}\u001b[0m\n",
      "\u001b[34m#metrics {\"StartTime\": 1701662364.825829, \"EndTime\": 1701662364.8258884, \"Dimensions\": {\"Algorithm\": \"Linear Learner\", \"Host\": \"algo-1\", \"Operation\": \"training\", \"epoch\": 5, \"model\": 2}, \"Metrics\": {\"train_absolute_loss_objective\": {\"sum\": 0.7576470375061035, \"count\": 1, \"min\": 0.7576470375061035, \"max\": 0.7576470375061035}}}\u001b[0m\n",
      "\u001b[34m#metrics {\"StartTime\": 1701662364.8259966, \"EndTime\": 1701662364.8260176, \"Dimensions\": {\"Algorithm\": \"Linear Learner\", \"Host\": \"algo-1\", \"Operation\": \"training\", \"epoch\": 5, \"model\": 3}, \"Metrics\": {\"train_absolute_loss_objective\": {\"sum\": 0.7732251286506653, \"count\": 1, \"min\": 0.7732251286506653, \"max\": 0.7732251286506653}}}\u001b[0m\n",
      "\u001b[34m#metrics {\"StartTime\": 1701662364.8261127, \"EndTime\": 1701662364.826133, \"Dimensions\": {\"Algorithm\": \"Linear Learner\", \"Host\": \"algo-1\", \"Operation\": \"training\", \"epoch\": 5, \"model\": 4}, \"Metrics\": {\"train_absolute_loss_objective\": {\"sum\": 0.6586800217628479, \"count\": 1, \"min\": 0.6586800217628479, \"max\": 0.6586800217628479}}}\u001b[0m\n",
      "\u001b[34m#metrics {\"StartTime\": 1701662364.8261902, \"EndTime\": 1701662364.826208, \"Dimensions\": {\"Algorithm\": \"Linear Learner\", \"Host\": \"algo-1\", \"Operation\": \"training\", \"epoch\": 5, \"model\": 5}, \"Metrics\": {\"train_absolute_loss_objective\": {\"sum\": 0.6684420704841614, \"count\": 1, \"min\": 0.6684420704841614, \"max\": 0.6684420704841614}}}\u001b[0m\n",
      "\u001b[34m#metrics {\"StartTime\": 1701662364.8263204, \"EndTime\": 1701662364.8263671, \"Dimensions\": {\"Algorithm\": \"Linear Learner\", \"Host\": \"algo-1\", \"Operation\": \"training\", \"epoch\": 5, \"model\": 6}, \"Metrics\": {\"train_absolute_loss_objective\": {\"sum\": 0.7518708109855652, \"count\": 1, \"min\": 0.7518708109855652, \"max\": 0.7518708109855652}}}\u001b[0m\n",
      "\u001b[34m#metrics {\"StartTime\": 1701662364.8264372, \"EndTime\": 1701662364.8264542, \"Dimensions\": {\"Algorithm\": \"Linear Learner\", \"Host\": \"algo-1\", \"Operation\": \"training\", \"epoch\": 5, \"model\": 7}, \"Metrics\": {\"train_absolute_loss_objective\": {\"sum\": 0.7228239178657532, \"count\": 1, \"min\": 0.7228239178657532, \"max\": 0.7228239178657532}}}\u001b[0m\n",
      "\u001b[34m#metrics {\"StartTime\": 1701662364.8265138, \"EndTime\": 1701662364.826531, \"Dimensions\": {\"Algorithm\": \"Linear Learner\", \"Host\": \"algo-1\", \"Operation\": \"training\", \"epoch\": 5, \"model\": 8}, \"Metrics\": {\"train_absolute_loss_objective\": {\"sum\": 0.8082082271575928, \"count\": 1, \"min\": 0.8082082271575928, \"max\": 0.8082082271575928}}}\u001b[0m\n",
      "\u001b[34m#metrics {\"StartTime\": 1701662364.82658, \"EndTime\": 1701662364.826595, \"Dimensions\": {\"Algorithm\": \"Linear Learner\", \"Host\": \"algo-1\", \"Operation\": \"training\", \"epoch\": 5, \"model\": 9}, \"Metrics\": {\"train_absolute_loss_objective\": {\"sum\": 0.7439956068992615, \"count\": 1, \"min\": 0.7439956068992615, \"max\": 0.7439956068992615}}}\u001b[0m\n",
      "\u001b[34m#metrics {\"StartTime\": 1701662364.8266492, \"EndTime\": 1701662364.826665, \"Dimensions\": {\"Algorithm\": \"Linear Learner\", \"Host\": \"algo-1\", \"Operation\": \"training\", \"epoch\": 5, \"model\": 10}, \"Metrics\": {\"train_absolute_loss_objective\": {\"sum\": 0.7503279447555542, \"count\": 1, \"min\": 0.7503279447555542, \"max\": 0.7503279447555542}}}\u001b[0m\n",
      "\u001b[34m#metrics {\"StartTime\": 1701662364.826726, \"EndTime\": 1701662364.826743, \"Dimensions\": {\"Algorithm\": \"Linear Learner\", \"Host\": \"algo-1\", \"Operation\": \"training\", \"epoch\": 5, \"model\": 11}, \"Metrics\": {\"train_absolute_loss_objective\": {\"sum\": 0.7363253235816956, \"count\": 1, \"min\": 0.7363253235816956, \"max\": 0.7363253235816956}}}\u001b[0m\n",
      "\u001b[34m#metrics {\"StartTime\": 1701662364.8267975, \"EndTime\": 1701662364.8268137, \"Dimensions\": {\"Algorithm\": \"Linear Learner\", \"Host\": \"algo-1\", \"Operation\": \"training\", \"epoch\": 5, \"model\": 12}, \"Metrics\": {\"train_absolute_loss_objective\": {\"sum\": 0.6678580045700073, \"count\": 1, \"min\": 0.6678580045700073, \"max\": 0.6678580045700073}}}\u001b[0m\n",
      "\u001b[34m#metrics {\"StartTime\": 1701662364.8268592, \"EndTime\": 1701662364.826869, \"Dimensions\": {\"Algorithm\": \"Linear Learner\", \"Host\": \"algo-1\", \"Operation\": \"training\", \"epoch\": 5, \"model\": 13}, \"Metrics\": {\"train_absolute_loss_objective\": {\"sum\": 0.694134533405304, \"count\": 1, \"min\": 0.694134533405304, \"max\": 0.694134533405304}}}\u001b[0m\n",
      "\u001b[34m#metrics {\"StartTime\": 1701662364.8268936, \"EndTime\": 1701662364.8269005, \"Dimensions\": {\"Algorithm\": \"Linear Learner\", \"Host\": \"algo-1\", \"Operation\": \"training\", \"epoch\": 5, \"model\": 14}, \"Metrics\": {\"train_absolute_loss_objective\": {\"sum\": 0.6663695573806763, \"count\": 1, \"min\": 0.6663695573806763, \"max\": 0.6663695573806763}}}\u001b[0m\n",
      "\u001b[34m#metrics {\"StartTime\": 1701662364.826941, \"EndTime\": 1701662364.8269553, \"Dimensions\": {\"Algorithm\": \"Linear Learner\", \"Host\": \"algo-1\", \"Operation\": \"training\", \"epoch\": 5, \"model\": 15}, \"Metrics\": {\"train_absolute_loss_objective\": {\"sum\": 0.7004321813583374, \"count\": 1, \"min\": 0.7004321813583374, \"max\": 0.7004321813583374}}}\u001b[0m\n",
      "\u001b[34m#metrics {\"StartTime\": 1701662364.827, \"EndTime\": 1701662364.8270094, \"Dimensions\": {\"Algorithm\": \"Linear Learner\", \"Host\": \"algo-1\", \"Operation\": \"training\", \"epoch\": 5, \"model\": 16}, \"Metrics\": {\"train_absolute_loss_objective\": {\"sum\": 0.721219003200531, \"count\": 1, \"min\": 0.721219003200531, \"max\": 0.721219003200531}}}\u001b[0m\n",
      "\u001b[34m#metrics {\"StartTime\": 1701662364.8270502, \"EndTime\": 1701662364.8270648, \"Dimensions\": {\"Algorithm\": \"Linear Learner\", \"Host\": \"algo-1\", \"Operation\": \"training\", \"epoch\": 5, \"model\": 17}, \"Metrics\": {\"train_absolute_loss_objective\": {\"sum\": 0.7697017192840576, \"count\": 1, \"min\": 0.7697017192840576, \"max\": 0.7697017192840576}}}\u001b[0m\n",
      "\u001b[34m#metrics {\"StartTime\": 1701662364.8271127, \"EndTime\": 1701662364.8271282, \"Dimensions\": {\"Algorithm\": \"Linear Learner\", \"Host\": \"algo-1\", \"Operation\": \"training\", \"epoch\": 5, \"model\": 18}, \"Metrics\": {\"train_absolute_loss_objective\": {\"sum\": 0.7468211650848389, \"count\": 1, \"min\": 0.7468211650848389, \"max\": 0.7468211650848389}}}\u001b[0m\n",
      "\u001b[34m#metrics {\"StartTime\": 1701662364.8271804, \"EndTime\": 1701662364.8271961, \"Dimensions\": {\"Algorithm\": \"Linear Learner\", \"Host\": \"algo-1\", \"Operation\": \"training\", \"epoch\": 5, \"model\": 19}, \"Metrics\": {\"train_absolute_loss_objective\": {\"sum\": 0.7442653775215149, \"count\": 1, \"min\": 0.7442653775215149, \"max\": 0.7442653775215149}}}\u001b[0m\n",
      "\u001b[34m#metrics {\"StartTime\": 1701662364.8272436, \"EndTime\": 1701662364.827257, \"Dimensions\": {\"Algorithm\": \"Linear Learner\", \"Host\": \"algo-1\", \"Operation\": \"training\", \"epoch\": 5, \"model\": 20}, \"Metrics\": {\"train_absolute_loss_objective\": {\"sum\": 0.7384313344955444, \"count\": 1, \"min\": 0.7384313344955444, \"max\": 0.7384313344955444}}}\u001b[0m\n",
      "\u001b[34m#metrics {\"StartTime\": 1701662364.8272834, \"EndTime\": 1701662364.8272905, \"Dimensions\": {\"Algorithm\": \"Linear Learner\", \"Host\": \"algo-1\", \"Operation\": \"training\", \"epoch\": 5, \"model\": 21}, \"Metrics\": {\"train_absolute_loss_objective\": {\"sum\": 0.7490140199661255, \"count\": 1, \"min\": 0.7490140199661255, \"max\": 0.7490140199661255}}}\u001b[0m\n",
      "\u001b[34m#metrics {\"StartTime\": 1701662364.82733, \"EndTime\": 1701662364.8273437, \"Dimensions\": {\"Algorithm\": \"Linear Learner\", \"Host\": \"algo-1\", \"Operation\": \"training\", \"epoch\": 5, \"model\": 22}, \"Metrics\": {\"train_absolute_loss_objective\": {\"sum\": 0.7065953016281128, \"count\": 1, \"min\": 0.7065953016281128, \"max\": 0.7065953016281128}}}\u001b[0m\n",
      "\u001b[34m#metrics {\"StartTime\": 1701662364.8273914, \"EndTime\": 1701662364.827407, \"Dimensions\": {\"Algorithm\": \"Linear Learner\", \"Host\": \"algo-1\", \"Operation\": \"training\", \"epoch\": 5, \"model\": 23}, \"Metrics\": {\"train_absolute_loss_objective\": {\"sum\": 0.7679495215415955, \"count\": 1, \"min\": 0.7679495215415955, \"max\": 0.7679495215415955}}}\u001b[0m\n",
      "\u001b[34m#metrics {\"StartTime\": 1701662364.8274667, \"EndTime\": 1701662364.8274832, \"Dimensions\": {\"Algorithm\": \"Linear Learner\", \"Host\": \"algo-1\", \"Operation\": \"training\", \"epoch\": 5, \"model\": 24}, \"Metrics\": {\"train_absolute_loss_objective\": {\"sum\": 0.7485133409500122, \"count\": 1, \"min\": 0.7485133409500122, \"max\": 0.7485133409500122}}}\u001b[0m\n",
      "\u001b[34m#metrics {\"StartTime\": 1701662364.8275344, \"EndTime\": 1701662364.82755, \"Dimensions\": {\"Algorithm\": \"Linear Learner\", \"Host\": \"algo-1\", \"Operation\": \"training\", \"epoch\": 5, \"model\": 25}, \"Metrics\": {\"train_absolute_loss_objective\": {\"sum\": 0.7874569892883301, \"count\": 1, \"min\": 0.7874569892883301, \"max\": 0.7874569892883301}}}\u001b[0m\n",
      "\u001b[34m#metrics {\"StartTime\": 1701662364.8276021, \"EndTime\": 1701662364.8276181, \"Dimensions\": {\"Algorithm\": \"Linear Learner\", \"Host\": \"algo-1\", \"Operation\": \"training\", \"epoch\": 5, \"model\": 26}, \"Metrics\": {\"train_absolute_loss_objective\": {\"sum\": 0.7754809856414795, \"count\": 1, \"min\": 0.7754809856414795, \"max\": 0.7754809856414795}}}\u001b[0m\n",
      "\u001b[34m#metrics {\"StartTime\": 1701662364.8276675, \"EndTime\": 1701662364.8276837, \"Dimensions\": {\"Algorithm\": \"Linear Learner\", \"Host\": \"algo-1\", \"Operation\": \"training\", \"epoch\": 5, \"model\": 27}, \"Metrics\": {\"train_absolute_loss_objective\": {\"sum\": 0.7696665525436401, \"count\": 1, \"min\": 0.7696665525436401, \"max\": 0.7696665525436401}}}\u001b[0m\n",
      "\u001b[34m#metrics {\"StartTime\": 1701662364.8277664, \"EndTime\": 1701662364.8277836, \"Dimensions\": {\"Algorithm\": \"Linear Learner\", \"Host\": \"algo-1\", \"Operation\": \"training\", \"epoch\": 5, \"model\": 28}, \"Metrics\": {\"train_absolute_loss_objective\": {\"sum\": 0.8137890100479126, \"count\": 1, \"min\": 0.8137890100479126, \"max\": 0.8137890100479126}}}\u001b[0m\n",
      "\u001b[34m#metrics {\"StartTime\": 1701662364.8278317, \"EndTime\": 1701662364.8278468, \"Dimensions\": {\"Algorithm\": \"Linear Learner\", \"Host\": \"algo-1\", \"Operation\": \"training\", \"epoch\": 5, \"model\": 29}, \"Metrics\": {\"train_absolute_loss_objective\": {\"sum\": 0.813912570476532, \"count\": 1, \"min\": 0.813912570476532, \"max\": 0.813912570476532}}}\u001b[0m\n",
      "\u001b[34m#metrics {\"StartTime\": 1701662364.8278944, \"EndTime\": 1701662364.8279066, \"Dimensions\": {\"Algorithm\": \"Linear Learner\", \"Host\": \"algo-1\", \"Operation\": \"training\", \"epoch\": 5, \"model\": 30}, \"Metrics\": {\"train_absolute_loss_objective\": {\"sum\": 1.0765093564987183, \"count\": 1, \"min\": 1.0765093564987183, \"max\": 1.0765093564987183}}}\u001b[0m\n",
      "\u001b[34m#metrics {\"StartTime\": 1701662364.827948, \"EndTime\": 1701662364.8279626, \"Dimensions\": {\"Algorithm\": \"Linear Learner\", \"Host\": \"algo-1\", \"Operation\": \"training\", \"epoch\": 5, \"model\": 31}, \"Metrics\": {\"train_absolute_loss_objective\": {\"sum\": 0.8756470680236816, \"count\": 1, \"min\": 0.8756470680236816, \"max\": 0.8756470680236816}}}\u001b[0m\n",
      "\u001b[34m[12/04/2023 03:59:24 INFO 140240539854656] #quality_metric: host=algo-1, epoch=5, train absolute_loss_objective <loss>=0.7553672790527344\u001b[0m\n",
      "\u001b[34m[12/04/2023 03:59:24 INFO 140240539854656] #early_stopping_criteria_metric: host=algo-1, epoch=5, criteria=absolute_loss_objective, value=0.6586800217628479\u001b[0m\n",
      "\u001b[34m[12/04/2023 03:59:24 INFO 140240539854656] Saving model for epoch: 5\u001b[0m\n",
      "\u001b[34m[12/04/2023 03:59:24 INFO 140240539854656] Saved checkpoint to \"/tmp/tmps0_v6iwi/mx-mod-0000.params\"\u001b[0m\n",
      "\u001b[34m[12/04/2023 03:59:24 INFO 140240539854656] #progress_metric: host=algo-1, completed 100.0 % of epochs\u001b[0m\n",
      "\u001b[34m#metrics {\"StartTime\": 1701662364.798902, \"EndTime\": 1701662364.8349192, \"Dimensions\": {\"Algorithm\": \"Linear Learner\", \"Host\": \"algo-1\", \"Operation\": \"training\", \"epoch\": 5, \"Meta\": \"training_data_iter\"}, \"Metrics\": {\"Total Records Seen\": {\"sum\": 39.0, \"count\": 1, \"min\": 39, \"max\": 39}, \"Total Batches Seen\": {\"sum\": 15.0, \"count\": 1, \"min\": 15, \"max\": 15}, \"Max Records Seen Between Resets\": {\"sum\": 5.0, \"count\": 1, \"min\": 5, \"max\": 5}, \"Max Batches Seen Between Resets\": {\"sum\": 2.0, \"count\": 1, \"min\": 2, \"max\": 2}, \"Reset Count\": {\"sum\": 8.0, \"count\": 1, \"min\": 8, \"max\": 8}, \"Number of Records Since Last Reset\": {\"sum\": 5.0, \"count\": 1, \"min\": 5, \"max\": 5}, \"Number of Batches Since Last Reset\": {\"sum\": 2.0, \"count\": 1, \"min\": 2, \"max\": 2}}}\u001b[0m\n",
      "\u001b[34m[12/04/2023 03:59:24 INFO 140240539854656] #throughput_metric: host=algo-1, train throughput=138.3336521526903 records/second\u001b[0m\n",
      "\u001b[34m[12/04/2023 03:59:24 WARNING 140240539854656] wait_for_all_workers will not sync workers since the kv store is not running distributed\u001b[0m\n",
      "\u001b[34m[12/04/2023 03:59:24 WARNING 140240539854656] wait_for_all_workers will not sync workers since the kv store is not running distributed\u001b[0m\n",
      "\u001b[34m[2023-12-04 03:59:24.835] [tensorio] [info] epoch_stats={\"data_pipeline\": \"/opt/ml/input/data/train\", \"epoch\": 16, \"duration\": 0, \"num_examples\": 1, \"num_bytes\": 192}\u001b[0m\n",
      "\u001b[34m[2023-12-04 03:59:24.841] [tensorio] [info] epoch_stats={\"data_pipeline\": \"/opt/ml/input/data/train\", \"epoch\": 18, \"duration\": 3, \"num_examples\": 2, \"num_bytes\": 240}\u001b[0m\n",
      "\u001b[34m[12/04/2023 03:59:24 INFO 140240539854656] #train_score (algo-1) : ('absolute_loss_objective', 15.05481185913086)\u001b[0m\n",
      "\u001b[34m[12/04/2023 03:59:24 INFO 140240539854656] #train_score (algo-1) : ('mse', 243.07471313476563)\u001b[0m\n",
      "\u001b[34m[12/04/2023 03:59:24 INFO 140240539854656] #train_score (algo-1) : ('absolute_loss', 15.05481185913086)\u001b[0m\n",
      "\u001b[34m[12/04/2023 03:59:24 INFO 140240539854656] #train_score (algo-1) : ('rmse', 15.590853508861073)\u001b[0m\n",
      "\u001b[34m[12/04/2023 03:59:24 INFO 140240539854656] #train_score (algo-1) : ('r2', 0.7001446898028674)\u001b[0m\n",
      "\u001b[34m[12/04/2023 03:59:24 INFO 140240539854656] #train_score (algo-1) : ('mae', 15.05481185913086)\u001b[0m\n",
      "\u001b[34m[12/04/2023 03:59:24 INFO 140240539854656] #quality_metric: host=algo-1, train absolute_loss_objective <loss>=15.05481185913086\u001b[0m\n",
      "\u001b[34m[12/04/2023 03:59:24 INFO 140240539854656] #quality_metric: host=algo-1, train mse <loss>=243.07471313476563\u001b[0m\n",
      "\u001b[34m[12/04/2023 03:59:24 INFO 140240539854656] #quality_metric: host=algo-1, train absolute_loss <loss>=15.05481185913086\u001b[0m\n",
      "\u001b[34m[12/04/2023 03:59:24 INFO 140240539854656] #quality_metric: host=algo-1, train rmse <loss>=15.590853508861073\u001b[0m\n",
      "\u001b[34m[12/04/2023 03:59:24 INFO 140240539854656] #quality_metric: host=algo-1, train r2 <loss>=0.7001446898028674\u001b[0m\n",
      "\u001b[34m[12/04/2023 03:59:24 INFO 140240539854656] #quality_metric: host=algo-1, train mae <loss>=15.05481185913086\u001b[0m\n",
      "\u001b[34m[12/04/2023 03:59:24 INFO 140240539854656] Best model found for hyperparameters: {\"optimizer\": \"adam\", \"learning_rate\": 0.1, \"wd\": 0.0001, \"l1\": 0.0, \"lr_scheduler_step\": 10, \"lr_scheduler_factor\": 0.99, \"lr_scheduler_minimum_lr\": 1e-05}\u001b[0m\n",
      "\u001b[34m[12/04/2023 03:59:24 INFO 140240539854656] Saved checkpoint to \"/tmp/tmp8b2aawqe/mx-mod-0000.params\"\u001b[0m\n",
      "\u001b[34m[12/04/2023 03:59:24 INFO 140240539854656] Test data is not provided.\u001b[0m\n",
      "\u001b[34m#metrics {\"StartTime\": 1701662364.4874675, \"EndTime\": 1701662364.848415, \"Dimensions\": {\"Algorithm\": \"Linear Learner\", \"Host\": \"algo-1\", \"Operation\": \"training\"}, \"Metrics\": {\"initialize.time\": {\"sum\": 129.74810600280762, \"count\": 1, \"min\": 129.74810600280762, \"max\": 129.74810600280762}, \"epochs\": {\"sum\": 6.0, \"count\": 1, \"min\": 6, \"max\": 6}, \"check_early_stopping.time\": {\"sum\": 4.601716995239258, \"count\": 6, \"min\": 0.17952919006347656, \"max\": 1.3740062713623047}, \"update.time\": {\"sum\": 199.60689544677734, \"count\": 6, \"min\": 27.99367904663086, \"max\": 45.34149169921875}, \"finalize.time\": {\"sum\": 8.632898330688477, \"count\": 1, \"min\": 8.632898330688477, \"max\": 8.632898330688477}, \"setuptime\": {\"sum\": 2.1507740020751953, \"count\": 1, \"min\": 2.1507740020751953, \"max\": 2.1507740020751953}, \"totaltime\": {\"sum\": 468.106746673584, \"count\": 1, \"min\": 468.106746673584, \"max\": 468.106746673584}}}\u001b[0m\n",
      "\n",
      "2023-12-04 03:59:44 Completed - Training job completed\n",
      "Training seconds: 137\n",
      "Billable seconds: 137\n"
     ]
    }
   ],
   "source": [
    "#fit the model\n",
    "linear.fit({\"train\":s3_train_data})"
   ]
  },
  {
   "cell_type": "code",
   "execution_count": 63,
   "id": "27817fd9-f7dc-4fe8-920d-7561734d2398",
   "metadata": {
    "tags": []
   },
   "outputs": [
    {
     "name": "stderr",
     "output_type": "stream",
     "text": [
      "INFO:sagemaker:Creating model with name: linear-learner-2023-12-04-04-00-51-638\n",
      "INFO:sagemaker:Creating endpoint-config with name linear-learner-2023-12-04-04-00-51-638\n",
      "INFO:sagemaker:Creating endpoint with name linear-learner-2023-12-04-04-00-51-638\n"
     ]
    },
    {
     "name": "stdout",
     "output_type": "stream",
     "text": [
      "-------!"
     ]
    }
   ],
   "source": [
    "#deploy the model\n",
    "linear_regresor=linear.deploy(initial_instance_count=1,instance_type=\"ml.m4.xlarge\")"
   ]
  },
  {
   "cell_type": "code",
   "execution_count": 65,
   "id": "7a95e268-b9bb-4223-ae2a-b968dfe9d206",
   "metadata": {
    "tags": []
   },
   "outputs": [],
   "source": [
    "linear_regresor.serializer=sagemaker.serializers.CSVSerializer()\n",
    "linear_regresor.deserializer=sagemaker.deserializers.JSONDeserializer()"
   ]
  },
  {
   "cell_type": "code",
   "execution_count": 66,
   "id": "73471cd2-d470-49fb-92e9-b03a6972f1ed",
   "metadata": {
    "tags": []
   },
   "outputs": [],
   "source": [
    "#prediction\n",
    "results=linear_regresor.predict(X_test)"
   ]
  },
  {
   "cell_type": "code",
   "execution_count": 67,
   "id": "e45c5204-0921-4df8-af1f-c45db1baea0c",
   "metadata": {
    "tags": []
   },
   "outputs": [
    {
     "data": {
      "text/plain": [
       "{'predictions': [{'score': 77.46267700195312},\n",
       "  {'score': 55.5824089050293},\n",
       "  {'score': 67.51710510253906},\n",
       "  {'score': 71.99261474609375},\n",
       "  {'score': 40.66404724121094}]}"
      ]
     },
     "execution_count": 67,
     "metadata": {},
     "output_type": "execute_result"
    }
   ],
   "source": [
    "results"
   ]
  },
  {
   "cell_type": "code",
   "execution_count": 68,
   "id": "5a2a13e1-e8f3-445b-8b5a-bf1b947a933c",
   "metadata": {
    "tags": []
   },
   "outputs": [],
   "source": [
    "predictions=np.array([i[\"score\"] for i in results[\"predictions\"]])"
   ]
  },
  {
   "cell_type": "code",
   "execution_count": 69,
   "id": "708fab85-aecc-4184-ad71-db564c2d3342",
   "metadata": {
    "tags": []
   },
   "outputs": [
    {
     "data": {
      "text/plain": [
       "array([77.462677  , 55.58240891, 67.5171051 , 71.99261475, 40.66404724])"
      ]
     },
     "execution_count": 69,
     "metadata": {},
     "output_type": "execute_result"
    }
   ],
   "source": [
    "predictions"
   ]
  },
  {
   "cell_type": "code",
   "execution_count": null,
   "id": "7c88f9d3-2b69-451d-ad2a-e525b0cc8572",
   "metadata": {},
   "outputs": [],
   "source": []
  },
  {
   "cell_type": "code",
   "execution_count": null,
   "id": "15ad8e27-8756-4439-8a93-d18002b7d668",
   "metadata": {},
   "outputs": [],
   "source": []
  },
  {
   "cell_type": "code",
   "execution_count": null,
   "id": "1c889e53-4cae-4b15-b479-af987c27dd44",
   "metadata": {},
   "outputs": [],
   "source": []
  },
  {
   "cell_type": "code",
   "execution_count": null,
   "id": "41a37128-119c-4ccd-aef4-1a9f214eac5a",
   "metadata": {},
   "outputs": [],
   "source": []
  }
 ],
 "metadata": {
  "availableInstances": [
   {
    "_defaultOrder": 0,
    "_isFastLaunch": true,
    "category": "General purpose",
    "gpuNum": 0,
    "hideHardwareSpecs": false,
    "memoryGiB": 4,
    "name": "ml.t3.medium",
    "vcpuNum": 2
   },
   {
    "_defaultOrder": 1,
    "_isFastLaunch": false,
    "category": "General purpose",
    "gpuNum": 0,
    "hideHardwareSpecs": false,
    "memoryGiB": 8,
    "name": "ml.t3.large",
    "vcpuNum": 2
   },
   {
    "_defaultOrder": 2,
    "_isFastLaunch": false,
    "category": "General purpose",
    "gpuNum": 0,
    "hideHardwareSpecs": false,
    "memoryGiB": 16,
    "name": "ml.t3.xlarge",
    "vcpuNum": 4
   },
   {
    "_defaultOrder": 3,
    "_isFastLaunch": false,
    "category": "General purpose",
    "gpuNum": 0,
    "hideHardwareSpecs": false,
    "memoryGiB": 32,
    "name": "ml.t3.2xlarge",
    "vcpuNum": 8
   },
   {
    "_defaultOrder": 4,
    "_isFastLaunch": true,
    "category": "General purpose",
    "gpuNum": 0,
    "hideHardwareSpecs": false,
    "memoryGiB": 8,
    "name": "ml.m5.large",
    "vcpuNum": 2
   },
   {
    "_defaultOrder": 5,
    "_isFastLaunch": false,
    "category": "General purpose",
    "gpuNum": 0,
    "hideHardwareSpecs": false,
    "memoryGiB": 16,
    "name": "ml.m5.xlarge",
    "vcpuNum": 4
   },
   {
    "_defaultOrder": 6,
    "_isFastLaunch": false,
    "category": "General purpose",
    "gpuNum": 0,
    "hideHardwareSpecs": false,
    "memoryGiB": 32,
    "name": "ml.m5.2xlarge",
    "vcpuNum": 8
   },
   {
    "_defaultOrder": 7,
    "_isFastLaunch": false,
    "category": "General purpose",
    "gpuNum": 0,
    "hideHardwareSpecs": false,
    "memoryGiB": 64,
    "name": "ml.m5.4xlarge",
    "vcpuNum": 16
   },
   {
    "_defaultOrder": 8,
    "_isFastLaunch": false,
    "category": "General purpose",
    "gpuNum": 0,
    "hideHardwareSpecs": false,
    "memoryGiB": 128,
    "name": "ml.m5.8xlarge",
    "vcpuNum": 32
   },
   {
    "_defaultOrder": 9,
    "_isFastLaunch": false,
    "category": "General purpose",
    "gpuNum": 0,
    "hideHardwareSpecs": false,
    "memoryGiB": 192,
    "name": "ml.m5.12xlarge",
    "vcpuNum": 48
   },
   {
    "_defaultOrder": 10,
    "_isFastLaunch": false,
    "category": "General purpose",
    "gpuNum": 0,
    "hideHardwareSpecs": false,
    "memoryGiB": 256,
    "name": "ml.m5.16xlarge",
    "vcpuNum": 64
   },
   {
    "_defaultOrder": 11,
    "_isFastLaunch": false,
    "category": "General purpose",
    "gpuNum": 0,
    "hideHardwareSpecs": false,
    "memoryGiB": 384,
    "name": "ml.m5.24xlarge",
    "vcpuNum": 96
   },
   {
    "_defaultOrder": 12,
    "_isFastLaunch": false,
    "category": "General purpose",
    "gpuNum": 0,
    "hideHardwareSpecs": false,
    "memoryGiB": 8,
    "name": "ml.m5d.large",
    "vcpuNum": 2
   },
   {
    "_defaultOrder": 13,
    "_isFastLaunch": false,
    "category": "General purpose",
    "gpuNum": 0,
    "hideHardwareSpecs": false,
    "memoryGiB": 16,
    "name": "ml.m5d.xlarge",
    "vcpuNum": 4
   },
   {
    "_defaultOrder": 14,
    "_isFastLaunch": false,
    "category": "General purpose",
    "gpuNum": 0,
    "hideHardwareSpecs": false,
    "memoryGiB": 32,
    "name": "ml.m5d.2xlarge",
    "vcpuNum": 8
   },
   {
    "_defaultOrder": 15,
    "_isFastLaunch": false,
    "category": "General purpose",
    "gpuNum": 0,
    "hideHardwareSpecs": false,
    "memoryGiB": 64,
    "name": "ml.m5d.4xlarge",
    "vcpuNum": 16
   },
   {
    "_defaultOrder": 16,
    "_isFastLaunch": false,
    "category": "General purpose",
    "gpuNum": 0,
    "hideHardwareSpecs": false,
    "memoryGiB": 128,
    "name": "ml.m5d.8xlarge",
    "vcpuNum": 32
   },
   {
    "_defaultOrder": 17,
    "_isFastLaunch": false,
    "category": "General purpose",
    "gpuNum": 0,
    "hideHardwareSpecs": false,
    "memoryGiB": 192,
    "name": "ml.m5d.12xlarge",
    "vcpuNum": 48
   },
   {
    "_defaultOrder": 18,
    "_isFastLaunch": false,
    "category": "General purpose",
    "gpuNum": 0,
    "hideHardwareSpecs": false,
    "memoryGiB": 256,
    "name": "ml.m5d.16xlarge",
    "vcpuNum": 64
   },
   {
    "_defaultOrder": 19,
    "_isFastLaunch": false,
    "category": "General purpose",
    "gpuNum": 0,
    "hideHardwareSpecs": false,
    "memoryGiB": 384,
    "name": "ml.m5d.24xlarge",
    "vcpuNum": 96
   },
   {
    "_defaultOrder": 20,
    "_isFastLaunch": false,
    "category": "General purpose",
    "gpuNum": 0,
    "hideHardwareSpecs": true,
    "memoryGiB": 0,
    "name": "ml.geospatial.interactive",
    "supportedImageNames": [
     "sagemaker-geospatial-v1-0"
    ],
    "vcpuNum": 0
   },
   {
    "_defaultOrder": 21,
    "_isFastLaunch": true,
    "category": "Compute optimized",
    "gpuNum": 0,
    "hideHardwareSpecs": false,
    "memoryGiB": 4,
    "name": "ml.c5.large",
    "vcpuNum": 2
   },
   {
    "_defaultOrder": 22,
    "_isFastLaunch": false,
    "category": "Compute optimized",
    "gpuNum": 0,
    "hideHardwareSpecs": false,
    "memoryGiB": 8,
    "name": "ml.c5.xlarge",
    "vcpuNum": 4
   },
   {
    "_defaultOrder": 23,
    "_isFastLaunch": false,
    "category": "Compute optimized",
    "gpuNum": 0,
    "hideHardwareSpecs": false,
    "memoryGiB": 16,
    "name": "ml.c5.2xlarge",
    "vcpuNum": 8
   },
   {
    "_defaultOrder": 24,
    "_isFastLaunch": false,
    "category": "Compute optimized",
    "gpuNum": 0,
    "hideHardwareSpecs": false,
    "memoryGiB": 32,
    "name": "ml.c5.4xlarge",
    "vcpuNum": 16
   },
   {
    "_defaultOrder": 25,
    "_isFastLaunch": false,
    "category": "Compute optimized",
    "gpuNum": 0,
    "hideHardwareSpecs": false,
    "memoryGiB": 72,
    "name": "ml.c5.9xlarge",
    "vcpuNum": 36
   },
   {
    "_defaultOrder": 26,
    "_isFastLaunch": false,
    "category": "Compute optimized",
    "gpuNum": 0,
    "hideHardwareSpecs": false,
    "memoryGiB": 96,
    "name": "ml.c5.12xlarge",
    "vcpuNum": 48
   },
   {
    "_defaultOrder": 27,
    "_isFastLaunch": false,
    "category": "Compute optimized",
    "gpuNum": 0,
    "hideHardwareSpecs": false,
    "memoryGiB": 144,
    "name": "ml.c5.18xlarge",
    "vcpuNum": 72
   },
   {
    "_defaultOrder": 28,
    "_isFastLaunch": false,
    "category": "Compute optimized",
    "gpuNum": 0,
    "hideHardwareSpecs": false,
    "memoryGiB": 192,
    "name": "ml.c5.24xlarge",
    "vcpuNum": 96
   },
   {
    "_defaultOrder": 29,
    "_isFastLaunch": true,
    "category": "Accelerated computing",
    "gpuNum": 1,
    "hideHardwareSpecs": false,
    "memoryGiB": 16,
    "name": "ml.g4dn.xlarge",
    "vcpuNum": 4
   },
   {
    "_defaultOrder": 30,
    "_isFastLaunch": false,
    "category": "Accelerated computing",
    "gpuNum": 1,
    "hideHardwareSpecs": false,
    "memoryGiB": 32,
    "name": "ml.g4dn.2xlarge",
    "vcpuNum": 8
   },
   {
    "_defaultOrder": 31,
    "_isFastLaunch": false,
    "category": "Accelerated computing",
    "gpuNum": 1,
    "hideHardwareSpecs": false,
    "memoryGiB": 64,
    "name": "ml.g4dn.4xlarge",
    "vcpuNum": 16
   },
   {
    "_defaultOrder": 32,
    "_isFastLaunch": false,
    "category": "Accelerated computing",
    "gpuNum": 1,
    "hideHardwareSpecs": false,
    "memoryGiB": 128,
    "name": "ml.g4dn.8xlarge",
    "vcpuNum": 32
   },
   {
    "_defaultOrder": 33,
    "_isFastLaunch": false,
    "category": "Accelerated computing",
    "gpuNum": 4,
    "hideHardwareSpecs": false,
    "memoryGiB": 192,
    "name": "ml.g4dn.12xlarge",
    "vcpuNum": 48
   },
   {
    "_defaultOrder": 34,
    "_isFastLaunch": false,
    "category": "Accelerated computing",
    "gpuNum": 1,
    "hideHardwareSpecs": false,
    "memoryGiB": 256,
    "name": "ml.g4dn.16xlarge",
    "vcpuNum": 64
   },
   {
    "_defaultOrder": 35,
    "_isFastLaunch": false,
    "category": "Accelerated computing",
    "gpuNum": 1,
    "hideHardwareSpecs": false,
    "memoryGiB": 61,
    "name": "ml.p3.2xlarge",
    "vcpuNum": 8
   },
   {
    "_defaultOrder": 36,
    "_isFastLaunch": false,
    "category": "Accelerated computing",
    "gpuNum": 4,
    "hideHardwareSpecs": false,
    "memoryGiB": 244,
    "name": "ml.p3.8xlarge",
    "vcpuNum": 32
   },
   {
    "_defaultOrder": 37,
    "_isFastLaunch": false,
    "category": "Accelerated computing",
    "gpuNum": 8,
    "hideHardwareSpecs": false,
    "memoryGiB": 488,
    "name": "ml.p3.16xlarge",
    "vcpuNum": 64
   },
   {
    "_defaultOrder": 38,
    "_isFastLaunch": false,
    "category": "Accelerated computing",
    "gpuNum": 8,
    "hideHardwareSpecs": false,
    "memoryGiB": 768,
    "name": "ml.p3dn.24xlarge",
    "vcpuNum": 96
   },
   {
    "_defaultOrder": 39,
    "_isFastLaunch": false,
    "category": "Memory Optimized",
    "gpuNum": 0,
    "hideHardwareSpecs": false,
    "memoryGiB": 16,
    "name": "ml.r5.large",
    "vcpuNum": 2
   },
   {
    "_defaultOrder": 40,
    "_isFastLaunch": false,
    "category": "Memory Optimized",
    "gpuNum": 0,
    "hideHardwareSpecs": false,
    "memoryGiB": 32,
    "name": "ml.r5.xlarge",
    "vcpuNum": 4
   },
   {
    "_defaultOrder": 41,
    "_isFastLaunch": false,
    "category": "Memory Optimized",
    "gpuNum": 0,
    "hideHardwareSpecs": false,
    "memoryGiB": 64,
    "name": "ml.r5.2xlarge",
    "vcpuNum": 8
   },
   {
    "_defaultOrder": 42,
    "_isFastLaunch": false,
    "category": "Memory Optimized",
    "gpuNum": 0,
    "hideHardwareSpecs": false,
    "memoryGiB": 128,
    "name": "ml.r5.4xlarge",
    "vcpuNum": 16
   },
   {
    "_defaultOrder": 43,
    "_isFastLaunch": false,
    "category": "Memory Optimized",
    "gpuNum": 0,
    "hideHardwareSpecs": false,
    "memoryGiB": 256,
    "name": "ml.r5.8xlarge",
    "vcpuNum": 32
   },
   {
    "_defaultOrder": 44,
    "_isFastLaunch": false,
    "category": "Memory Optimized",
    "gpuNum": 0,
    "hideHardwareSpecs": false,
    "memoryGiB": 384,
    "name": "ml.r5.12xlarge",
    "vcpuNum": 48
   },
   {
    "_defaultOrder": 45,
    "_isFastLaunch": false,
    "category": "Memory Optimized",
    "gpuNum": 0,
    "hideHardwareSpecs": false,
    "memoryGiB": 512,
    "name": "ml.r5.16xlarge",
    "vcpuNum": 64
   },
   {
    "_defaultOrder": 46,
    "_isFastLaunch": false,
    "category": "Memory Optimized",
    "gpuNum": 0,
    "hideHardwareSpecs": false,
    "memoryGiB": 768,
    "name": "ml.r5.24xlarge",
    "vcpuNum": 96
   },
   {
    "_defaultOrder": 47,
    "_isFastLaunch": false,
    "category": "Accelerated computing",
    "gpuNum": 1,
    "hideHardwareSpecs": false,
    "memoryGiB": 16,
    "name": "ml.g5.xlarge",
    "vcpuNum": 4
   },
   {
    "_defaultOrder": 48,
    "_isFastLaunch": false,
    "category": "Accelerated computing",
    "gpuNum": 1,
    "hideHardwareSpecs": false,
    "memoryGiB": 32,
    "name": "ml.g5.2xlarge",
    "vcpuNum": 8
   },
   {
    "_defaultOrder": 49,
    "_isFastLaunch": false,
    "category": "Accelerated computing",
    "gpuNum": 1,
    "hideHardwareSpecs": false,
    "memoryGiB": 64,
    "name": "ml.g5.4xlarge",
    "vcpuNum": 16
   },
   {
    "_defaultOrder": 50,
    "_isFastLaunch": false,
    "category": "Accelerated computing",
    "gpuNum": 1,
    "hideHardwareSpecs": false,
    "memoryGiB": 128,
    "name": "ml.g5.8xlarge",
    "vcpuNum": 32
   },
   {
    "_defaultOrder": 51,
    "_isFastLaunch": false,
    "category": "Accelerated computing",
    "gpuNum": 1,
    "hideHardwareSpecs": false,
    "memoryGiB": 256,
    "name": "ml.g5.16xlarge",
    "vcpuNum": 64
   },
   {
    "_defaultOrder": 52,
    "_isFastLaunch": false,
    "category": "Accelerated computing",
    "gpuNum": 4,
    "hideHardwareSpecs": false,
    "memoryGiB": 192,
    "name": "ml.g5.12xlarge",
    "vcpuNum": 48
   },
   {
    "_defaultOrder": 53,
    "_isFastLaunch": false,
    "category": "Accelerated computing",
    "gpuNum": 4,
    "hideHardwareSpecs": false,
    "memoryGiB": 384,
    "name": "ml.g5.24xlarge",
    "vcpuNum": 96
   },
   {
    "_defaultOrder": 54,
    "_isFastLaunch": false,
    "category": "Accelerated computing",
    "gpuNum": 8,
    "hideHardwareSpecs": false,
    "memoryGiB": 768,
    "name": "ml.g5.48xlarge",
    "vcpuNum": 192
   },
   {
    "_defaultOrder": 55,
    "_isFastLaunch": false,
    "category": "Accelerated computing",
    "gpuNum": 8,
    "hideHardwareSpecs": false,
    "memoryGiB": 1152,
    "name": "ml.p4d.24xlarge",
    "vcpuNum": 96
   },
   {
    "_defaultOrder": 56,
    "_isFastLaunch": false,
    "category": "Accelerated computing",
    "gpuNum": 8,
    "hideHardwareSpecs": false,
    "memoryGiB": 1152,
    "name": "ml.p4de.24xlarge",
    "vcpuNum": 96
   },
   {
    "_defaultOrder": 57,
    "_isFastLaunch": false,
    "category": "Accelerated computing",
    "gpuNum": 0,
    "hideHardwareSpecs": false,
    "memoryGiB": 32,
    "name": "ml.trn1.2xlarge",
    "vcpuNum": 8
   },
   {
    "_defaultOrder": 58,
    "_isFastLaunch": false,
    "category": "Accelerated computing",
    "gpuNum": 0,
    "hideHardwareSpecs": false,
    "memoryGiB": 512,
    "name": "ml.trn1.32xlarge",
    "vcpuNum": 128
   },
   {
    "_defaultOrder": 59,
    "_isFastLaunch": false,
    "category": "Accelerated computing",
    "gpuNum": 0,
    "hideHardwareSpecs": false,
    "memoryGiB": 512,
    "name": "ml.trn1n.32xlarge",
    "vcpuNum": 128
   }
  ],
  "instance_type": "ml.t3.medium",
  "kernelspec": {
   "display_name": "Python 3 (Data Science 3.0)",
   "language": "python",
   "name": "python3__SAGEMAKER_INTERNAL__arn:aws:sagemaker:ap-south-1:394103062818:image/sagemaker-data-science-310-v1"
  },
  "language_info": {
   "codemirror_mode": {
    "name": "ipython",
    "version": 3
   },
   "file_extension": ".py",
   "mimetype": "text/x-python",
   "name": "python",
   "nbconvert_exporter": "python",
   "pygments_lexer": "ipython3",
   "version": "3.10.6"
  }
 },
 "nbformat": 4,
 "nbformat_minor": 5
}
